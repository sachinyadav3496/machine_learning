{
 "cells": [
  {
   "cell_type": "code",
   "execution_count": 1,
   "metadata": {},
   "outputs": [],
   "source": [
    "import os"
   ]
  },
  {
   "cell_type": "code",
   "execution_count": 3,
   "metadata": {},
   "outputs": [
    {
     "data": {
      "text/plain": [
       "'C:\\\\ml_batch\\\\Spam_Classifier\\\\'"
      ]
     },
     "execution_count": 3,
     "metadata": {},
     "output_type": "execute_result"
    }
   ],
   "source": [
    "os.path.abspath('./')"
   ]
  },
  {
   "cell_type": "code",
   "execution_count": 4,
   "metadata": {},
   "outputs": [
    {
     "data": {
      "text/plain": [
       "['.ipynb_checkpoints',\n",
       " 'emails',\n",
       " 'Spam_my_test.ipynb',\n",
       " 'Spam_Not_Spam_Project.ipynb']"
      ]
     },
     "execution_count": 4,
     "metadata": {},
     "output_type": "execute_result"
    }
   ],
   "source": [
    "os.listdir()"
   ]
  },
  {
   "cell_type": "code",
   "execution_count": 5,
   "metadata": {},
   "outputs": [
    {
     "data": {
      "text/plain": [
       "['ham', 'spam']"
      ]
     },
     "execution_count": 5,
     "metadata": {},
     "output_type": "execute_result"
    }
   ],
   "source": [
    "os.listdir('./emails')"
   ]
  },
  {
   "cell_type": "code",
   "execution_count": 13,
   "metadata": {},
   "outputs": [
    {
     "name": "stdout",
     "output_type": "stream",
     "text": [
      "From exmh-workers-admin@redhat.com  Thu Aug 22 12:36:23 2002\n",
      "Return-Path: <exmh-workers-admin@spamassassin.taint.org>\n",
      "Delivered-To: zzzz@localhost.netnoteinc.com\n",
      "Received: from localhost (localhost [127.0.0.1])\n",
      "\tby phobos.labs.netnoteinc.com (Postfix) with ESMTP id D03E543C36\n",
      "\tfor <zzzz@localhost>; Thu, 22 Aug 2002 07:36:16 -0400 (EDT)\n",
      "Received: from phobos [127.0.0.1]\n",
      "\tby localhost with IMAP (fetchmail-5.9.0)\n",
      "\tfor zzzz@localhost (single-drop); Thu, 22 Aug 2002 12:36:16 +0100 (IST)\n",
      "Received: from listman.spamassassin.taint.org (listman.spamassassin.taint.org [66.187.233.211]) by\n",
      "    dogma.slashnull.org (8.11.6/8.11.6) with ESMTP id g7MBYrZ04811 for\n",
      "    <zzzz-exmh@spamassassin.taint.org>; Thu, 22 Aug 2002 12:34:53 +0100\n",
      "Received: from listman.spamassassin.taint.org (localhost.localdomain [127.0.0.1]) by\n",
      "    listman.redhat.com (Postfix) with ESMTP id 8386540858; Thu, 22 Aug 2002\n",
      "    07:35:02 -0400 (EDT)\n",
      "Delivered-To: exmh-workers@listman.spamassassin.taint.org\n",
      "Received: from int-mx1.corp.spamassassin.taint.org (int-mx1.corp.spamassassin.taint.org\n",
      "    [172.16.52.254]) by listman.redhat.com (Postfix) with ESMTP id 10CF8406D7\n",
      "    for <exmh-workers@listman.redhat.com>; Thu, 22 Aug 2002 07:34:10 -0400\n",
      "    (EDT)\n",
      "Received: (from mail@localhost) by int-mx1.corp.spamassassin.taint.org (8.11.6/8.11.6)\n",
      "    id g7MBY7g11259 for exmh-workers@listman.redhat.com; Thu, 22 Aug 2002\n",
      "    07:34:07 -0400\n",
      "Received: from mx1.spamassassin.taint.org (mx1.spamassassin.taint.org [172.16.48.31]) by\n",
      "    int-mx1.corp.redhat.com (8.11.6/8.11.6) with SMTP id g7MBY7Y11255 for\n",
      "    <exmh-workers@redhat.com>; Thu, 22 Aug 2002 07:34:07 -0400\n",
      "Received: from ratree.psu.ac.th ([202.28.97.6]) by mx1.spamassassin.taint.org\n",
      "    (8.11.6/8.11.6) with SMTP id g7MBIhl25223 for <exmh-workers@redhat.com>;\n",
      "    Thu, 22 Aug 2002 07:18:55 -0400\n",
      "Received: from delta.cs.mu.OZ.AU (delta.coe.psu.ac.th [172.30.0.98]) by\n",
      "    ratree.psu.ac.th (8.11.6/8.11.6) with ESMTP id g7MBWel29762;\n",
      "    Thu, 22 Aug 2002 18:32:40 +0700 (ICT)\n",
      "Received: from munnari.OZ.AU (localhost [127.0.0.1]) by delta.cs.mu.OZ.AU\n",
      "    (8.11.6/8.11.6) with ESMTP id g7MBQPW13260; Thu, 22 Aug 2002 18:26:25\n",
      "    +0700 (ICT)\n",
      "From: Robert Elz <kre@munnari.OZ.AU>\n",
      "To: Chris Garrigues <cwg-dated-1030377287.06fa6d@DeepEddy.Com>\n",
      "Cc: exmh-workers@spamassassin.taint.org\n",
      "Subject: Re: New Sequences Window\n",
      "In-Reply-To: <1029945287.4797.TMDA@deepeddy.vircio.com>\n",
      "References: <1029945287.4797.TMDA@deepeddy.vircio.com>\n",
      "    <1029882468.3116.TMDA@deepeddy.vircio.com> <9627.1029933001@munnari.OZ.AU>\n",
      "    <1029943066.26919.TMDA@deepeddy.vircio.com>\n",
      "    <1029944441.398.TMDA@deepeddy.vircio.com>\n",
      "MIME-Version: 1.0\n",
      "Content-Type: text/plain; charset=us-ascii\n",
      "Message-Id: <13258.1030015585@munnari.OZ.AU>\n",
      "X-Loop: exmh-workers@spamassassin.taint.org\n",
      "Sender: exmh-workers-admin@spamassassin.taint.org\n",
      "Errors-To: exmh-workers-admin@spamassassin.taint.org\n",
      "X-Beenthere: exmh-workers@spamassassin.taint.org\n",
      "X-Mailman-Version: 2.0.1\n",
      "Precedence: bulk\n",
      "List-Help: <mailto:exmh-workers-request@spamassassin.taint.org?subject=help>\n",
      "List-Post: <mailto:exmh-workers@spamassassin.taint.org>\n",
      "List-Subscribe: <https://listman.spamassassin.taint.org/mailman/listinfo/exmh-workers>,\n",
      "    <mailto:exmh-workers-request@redhat.com?subject=subscribe>\n",
      "List-Id: Discussion list for EXMH developers <exmh-workers.spamassassin.taint.org>\n",
      "List-Unsubscribe: <https://listman.spamassassin.taint.org/mailman/listinfo/exmh-workers>,\n",
      "    <mailto:exmh-workers-request@redhat.com?subject=unsubscribe>\n",
      "List-Archive: <https://listman.spamassassin.taint.org/mailman/private/exmh-workers/>\n",
      "Date: Thu, 22 Aug 2002 18:26:25 +0700\n",
      "\n",
      "    Date:        Wed, 21 Aug 2002 10:54:46 -0500\n",
      "    From:        Chris Garrigues <cwg-dated-1030377287.06fa6d@DeepEddy.Com>\n",
      "    Message-ID:  <1029945287.4797.TMDA@deepeddy.vircio.com>\n",
      "\n",
      "\n",
      "  | I can't reproduce this error.\n",
      "\n",
      "For me it is very repeatable... (like every time, without fail).\n",
      "\n",
      "This is the debug log of the pick happening ...\n",
      "\n",
      "18:19:03 Pick_It {exec pick +inbox -list -lbrace -lbrace -subject ftp -rbrace -rbrace} {4852-4852 -sequence mercury}\n",
      "18:19:03 exec pick +inbox -list -lbrace -lbrace -subject ftp -rbrace -rbrace 4852-4852 -sequence mercury\n",
      "18:19:04 Ftoc_PickMsgs {{1 hit}}\n",
      "18:19:04 Marking 1 hits\n",
      "18:19:04 tkerror: syntax error in expression \"int ...\n",
      "\n",
      "Note, if I run the pick command by hand ...\n",
      "\n",
      "delta$ pick +inbox -list -lbrace -lbrace -subject ftp -rbrace -rbrace  4852-4852 -sequence mercury\n",
      "1 hit\n",
      "\n",
      "That's where the \"1 hit\" comes from (obviously).  The version of nmh I'm\n",
      "using is ...\n",
      "\n",
      "delta$ pick -version\n",
      "pick -- nmh-1.0.4 [compiled on fuchsia.cs.mu.OZ.AU at Sun Mar 17 14:55:56 ICT 2002]\n",
      "\n",
      "And the relevant part of my .mh_profile ...\n",
      "\n",
      "delta$ mhparam pick\n",
      "-seq sel -list\n",
      "\n",
      "\n",
      "Since the pick command works, the sequence (actually, both of them, the\n",
      "one that's explicit on the command line, from the search popup, and the\n",
      "one that comes from .mh_profile) do get created.\n",
      "\n",
      "kre\n",
      "\n",
      "ps: this is still using the version of the code form a day ago, I haven't\n",
      "been able to reach the cvs repository today (local routing issue I think).\n",
      "\n",
      "\n",
      "\n",
      "_______________________________________________\n",
      "Exmh-workers mailing list\n",
      "Exmh-workers@redhat.com\n",
      "https://listman.redhat.com/mailman/listinfo/exmh-workers\n",
      "\n",
      "\n"
     ]
    }
   ],
   "source": [
    "for var in os.listdir('./emails/ham'):\n",
    "    path = \".\\\\emails\\\\ham\"\n",
    "    path = os.path.join(path,var)\n",
    "    f  = open(path)\n",
    "    data = f.read()\n",
    "    print(data)\n",
    "    f.close()\n",
    "    break"
   ]
  },
  {
   "cell_type": "code",
   "execution_count": 14,
   "metadata": {},
   "outputs": [],
   "source": [
    "import io"
   ]
  },
  {
   "cell_type": "code",
   "execution_count": 16,
   "metadata": {},
   "outputs": [],
   "source": [
    "os.walk?"
   ]
  },
  {
   "cell_type": "code",
   "execution_count": 17,
   "metadata": {},
   "outputs": [
    {
     "data": {
      "text/plain": [
       "<generator object walk at 0x000001901BFF44F8>"
      ]
     },
     "execution_count": 17,
     "metadata": {},
     "output_type": "execute_result"
    }
   ],
   "source": [
    "os.walk('C:\\\\Users\\\\hp\\\\Desktop\\\\Batch12')"
   ]
  },
  {
   "cell_type": "code",
   "execution_count": 37,
   "metadata": {},
   "outputs": [],
   "source": [
    "f  = open('emails/ham/00017.08ef2d89f14cf7e2a458b80697eb1837')"
   ]
  },
  {
   "cell_type": "code",
   "execution_count": 38,
   "metadata": {},
   "outputs": [],
   "source": [
    "data = f.read()"
   ]
  },
  {
   "cell_type": "code",
   "execution_count": 39,
   "metadata": {},
   "outputs": [],
   "source": [
    "f.close()"
   ]
  },
  {
   "cell_type": "code",
   "execution_count": 40,
   "metadata": {},
   "outputs": [
    {
     "name": "stdout",
     "output_type": "stream",
     "text": [
      "'From robert.chambers@baesystems.com  Thu Aug 22 17:19:36 2002\\nReturn-Path: <robert.chambers@baesystems.com>\\nDelivered-To: zzzz@localhost.netnoteinc.com\\nReceived: from localhost (localhost [127.0.0.1])\\n\\tby phobos.labs.netnoteinc.com (Postfix) with ESMTP id F2AD843F99\\n\\tfor <zzzz@localhost>; Thu, 22 Aug 2002 12:19:25 -0400 (EDT)\\nReceived: from phobos [127.0.0.1]\\n\\tby localhost with IMAP (fetchmail-5.9.0)\\n\\tfor zzzz@localhost (single-drop); Thu, 22 Aug 2002 17:19:26 +0100 (IST)\\nReceived: from n8.grp.scd.yahoo.com (n8.grp.scd.yahoo.com [66.218.66.92])\\n    by dogma.slashnull.org (8.11.6/8.11.6) with SMTP id g7MGBSZ13944 for\\n    <zzzz@spamassassin.taint.org>; Thu, 22 Aug 2002 17:11:28 +0100\\nX-Egroups-Return: sentto-2242572-52742-1030032689-zzzz=spamassassin.taint.org@returns.groups.yahoo.com\\nReceived: from [66.218.67.196] by n8.grp.scd.yahoo.com with NNFMP;\\n    22 Aug 2002 16:11:29 -0000\\nX-Sender: robert.chambers@baesystems.com\\nX-Apparently-To: zzzzteana@yahoogroups.com\\nReceived: (EGP: mail-8_1_0_1); 22 Aug 2002 16:11:28 -0000\\nReceived: (qmail 71045 invoked from network); 22 Aug 2002 16:11:28 -0000\\nReceived: from unknown (66.218.66.217) by m3.grp.scd.yahoo.com with QMQP;\\n    22 Aug 2002 16:11:28 -0000\\nReceived: from unknown (HELO n19.grp.scd.yahoo.com) (66.218.66.74) by\\n    mta2.grp.scd.yahoo.com with SMTP; 22 Aug 2002 16:11:28 -0000\\nReceived: from [66.218.67.174] by n19.grp.scd.yahoo.com with NNFMP;\\n    22 Aug 2002 16:11:27 -0000\\nTo: zzzzteana@yahoogroups.com\\nMessage-Id: <ak32ff+rh64@eGroups.com>\\nIn-Reply-To: <000701c248f5$1cd98500$508827d9@b5w3e9>\\nUser-Agent: eGroups-EW/0.82\\nX-Mailer: Yahoo Groups Message Poster\\nFrom: \"uncle_slacky\" <robert.chambers@baesystems.com>\\nX-Originating-Ip: 20.138.254.2\\nX-Yahoo-Profile: uncle_slacky\\nMIME-Version: 1.0\\nMailing-List: list zzzzteana@yahoogroups.com; contact\\n    forteana-owner@yahoogroups.com\\nDelivered-To: mailing list zzzzteana@yahoogroups.com\\nPrecedence: bulk\\nList-Unsubscribe: <mailto:zzzzteana-unsubscribe@yahoogroups.com>\\nDate: Thu, 22 Aug 2002 16:11:27 -0000\\nSubject: [zzzzteana] Re: Australian Catholic Kiddie Perv Steps Aside\\nReply-To: zzzzteana@yahoogroups.com\\nContent-Type: text/plain; charset=US-ASCII\\nContent-Transfer-Encoding: 7bit\\n\\n--- In forteana@y..., \"D.McMann\" <dmcmann@b...> wrote:\\n> Robert Moaby, 33, who sent death threats to staff, was also jailed\\n> for hoarding indecent pictures of children on his home computer.\\n> =========\\n> \\n> Hmm, if I didn\\'t trust our government and secret police, I could \\nlook at\\n> this another way....\\n\\nThere is a bit of circumstantial evidence - apparently some MT \\nlisters were approached by him (via email) - a little research in \\ndejanews/google groups showed a number of messages from him, clearly \\nhoping to contact girls, appearing in \"alt.teens\" and similar groups -\\n I just tried a Google Groups search on \"Robert Moaby\" and some of \\nthem came top of the list.\\n\\nNote for Marie - \"MT\" stands for Mark Thomas, a slightly slimmer, UK \\nversion of your Michael Moore - the mailing list is named after him. \\n\\nRob\\n\\n\\n------------------------ Yahoo! Groups Sponsor ---------------------~-->\\n4 DVDs Free +s&p Join Now\\nhttp://us.click.yahoo.com/pt6YBB/NXiEAA/mG3HAA/7gSolB/TM\\n---------------------------------------------------------------------~->\\n\\nTo unsubscribe from this group, send an email to:\\nforteana-unsubscribe@egroups.com\\n\\n \\n\\nYour use of Yahoo! Groups is subject to http://docs.yahoo.com/info/terms/ \\n\\n\\n\\n'\n"
     ]
    }
   ],
   "source": [
    "print(repr(data))"
   ]
  },
  {
   "cell_type": "code",
   "execution_count": 41,
   "metadata": {},
   "outputs": [],
   "source": [
    "new_data = data.split('\\n\\n')"
   ]
  },
  {
   "cell_type": "code",
   "execution_count": 42,
   "metadata": {},
   "outputs": [
    {
     "data": {
      "text/plain": [
       "'From robert.chambers@baesystems.com  Thu Aug 22 17:19:36 2002\\nReturn-Path: <robert.chambers@baesystems.com>\\nDelivered-To: zzzz@localhost.netnoteinc.com\\nReceived: from localhost (localhost [127.0.0.1])\\n\\tby phobos.labs.netnoteinc.com (Postfix) with ESMTP id F2AD843F99\\n\\tfor <zzzz@localhost>; Thu, 22 Aug 2002 12:19:25 -0400 (EDT)\\nReceived: from phobos [127.0.0.1]\\n\\tby localhost with IMAP (fetchmail-5.9.0)\\n\\tfor zzzz@localhost (single-drop); Thu, 22 Aug 2002 17:19:26 +0100 (IST)\\nReceived: from n8.grp.scd.yahoo.com (n8.grp.scd.yahoo.com [66.218.66.92])\\n    by dogma.slashnull.org (8.11.6/8.11.6) with SMTP id g7MGBSZ13944 for\\n    <zzzz@spamassassin.taint.org>; Thu, 22 Aug 2002 17:11:28 +0100\\nX-Egroups-Return: sentto-2242572-52742-1030032689-zzzz=spamassassin.taint.org@returns.groups.yahoo.com\\nReceived: from [66.218.67.196] by n8.grp.scd.yahoo.com with NNFMP;\\n    22 Aug 2002 16:11:29 -0000\\nX-Sender: robert.chambers@baesystems.com\\nX-Apparently-To: zzzzteana@yahoogroups.com\\nReceived: (EGP: mail-8_1_0_1); 22 Aug 2002 16:11:28 -0000\\nReceived: (qmail 71045 invoked from network); 22 Aug 2002 16:11:28 -0000\\nReceived: from unknown (66.218.66.217) by m3.grp.scd.yahoo.com with QMQP;\\n    22 Aug 2002 16:11:28 -0000\\nReceived: from unknown (HELO n19.grp.scd.yahoo.com) (66.218.66.74) by\\n    mta2.grp.scd.yahoo.com with SMTP; 22 Aug 2002 16:11:28 -0000\\nReceived: from [66.218.67.174] by n19.grp.scd.yahoo.com with NNFMP;\\n    22 Aug 2002 16:11:27 -0000\\nTo: zzzzteana@yahoogroups.com\\nMessage-Id: <ak32ff+rh64@eGroups.com>\\nIn-Reply-To: <000701c248f5$1cd98500$508827d9@b5w3e9>\\nUser-Agent: eGroups-EW/0.82\\nX-Mailer: Yahoo Groups Message Poster\\nFrom: \"uncle_slacky\" <robert.chambers@baesystems.com>\\nX-Originating-Ip: 20.138.254.2\\nX-Yahoo-Profile: uncle_slacky\\nMIME-Version: 1.0\\nMailing-List: list zzzzteana@yahoogroups.com; contact\\n    forteana-owner@yahoogroups.com\\nDelivered-To: mailing list zzzzteana@yahoogroups.com\\nPrecedence: bulk\\nList-Unsubscribe: <mailto:zzzzteana-unsubscribe@yahoogroups.com>\\nDate: Thu, 22 Aug 2002 16:11:27 -0000\\nSubject: [zzzzteana] Re: Australian Catholic Kiddie Perv Steps Aside\\nReply-To: zzzzteana@yahoogroups.com\\nContent-Type: text/plain; charset=US-ASCII\\nContent-Transfer-Encoding: 7bit'"
      ]
     },
     "execution_count": 42,
     "metadata": {},
     "output_type": "execute_result"
    }
   ],
   "source": [
    "new_data[0]"
   ]
  },
  {
   "cell_type": "code",
   "execution_count": 43,
   "metadata": {},
   "outputs": [
    {
     "data": {
      "text/plain": [
       "'--- In forteana@y..., \"D.McMann\" <dmcmann@b...> wrote:\\n> Robert Moaby, 33, who sent death threats to staff, was also jailed\\n> for hoarding indecent pictures of children on his home computer.\\n> =========\\n> \\n> Hmm, if I didn\\'t trust our government and secret police, I could \\nlook at\\n> this another way....'"
      ]
     },
     "execution_count": 43,
     "metadata": {},
     "output_type": "execute_result"
    }
   ],
   "source": [
    "new_data[1]"
   ]
  },
  {
   "cell_type": "code",
   "execution_count": 44,
   "metadata": {},
   "outputs": [
    {
     "data": {
      "text/plain": [
       "'There is a bit of circumstantial evidence - apparently some MT \\nlisters were approached by him (via email) - a little research in \\ndejanews/google groups showed a number of messages from him, clearly \\nhoping to contact girls, appearing in \"alt.teens\" and similar groups -\\n I just tried a Google Groups search on \"Robert Moaby\" and some of \\nthem came top of the list.'"
      ]
     },
     "execution_count": 44,
     "metadata": {},
     "output_type": "execute_result"
    }
   ],
   "source": [
    "new_data[2]"
   ]
  },
  {
   "cell_type": "code",
   "execution_count": 45,
   "metadata": {},
   "outputs": [
    {
     "data": {
      "text/plain": [
       "'Note for Marie - \"MT\" stands for Mark Thomas, a slightly slimmer, UK \\nversion of your Michael Moore - the mailing list is named after him. '"
      ]
     },
     "execution_count": 45,
     "metadata": {},
     "output_type": "execute_result"
    }
   ],
   "source": [
    "new_data[3]"
   ]
  },
  {
   "cell_type": "code",
   "execution_count": 46,
   "metadata": {},
   "outputs": [
    {
     "data": {
      "text/plain": [
       "'Rob'"
      ]
     },
     "execution_count": 46,
     "metadata": {},
     "output_type": "execute_result"
    }
   ],
   "source": [
    "new_data[4]"
   ]
  },
  {
   "cell_type": "code",
   "execution_count": 47,
   "metadata": {},
   "outputs": [
    {
     "data": {
      "text/plain": [
       "'\\n------------------------ Yahoo! Groups Sponsor ---------------------~-->\\n4 DVDs Free +s&p Join Now\\nhttp://us.click.yahoo.com/pt6YBB/NXiEAA/mG3HAA/7gSolB/TM\\n---------------------------------------------------------------------~->'"
      ]
     },
     "execution_count": 47,
     "metadata": {},
     "output_type": "execute_result"
    }
   ],
   "source": [
    "new_data[5]"
   ]
  },
  {
   "cell_type": "code",
   "execution_count": 48,
   "metadata": {},
   "outputs": [
    {
     "data": {
      "text/plain": [
       "'To unsubscribe from this group, send an email to:\\nforteana-unsubscribe@egroups.com'"
      ]
     },
     "execution_count": 48,
     "metadata": {},
     "output_type": "execute_result"
    }
   ],
   "source": [
    "new_data[6]"
   ]
  },
  {
   "cell_type": "code",
   "execution_count": 49,
   "metadata": {},
   "outputs": [
    {
     "data": {
      "text/plain": [
       "' '"
      ]
     },
     "execution_count": 49,
     "metadata": {},
     "output_type": "execute_result"
    }
   ],
   "source": [
    "new_data[7]"
   ]
  },
  {
   "cell_type": "code",
   "execution_count": 57,
   "metadata": {},
   "outputs": [],
   "source": [
    "inBody = False\n",
    "message = []\n",
    "for line in open('emails/ham/00417.7ec0b5a250ddfd52a9b46385688f9f9c') : \n",
    "    if line == '\\n' : \n",
    "        inBody = True\n",
    "    elif inBody : \n",
    "        message.append(line)"
   ]
  },
  {
   "cell_type": "code",
   "execution_count": 59,
   "metadata": {},
   "outputs": [],
   "source": [
    "message = '\\n'.join(message)"
   ]
  },
  {
   "cell_type": "code",
   "execution_count": 60,
   "metadata": {},
   "outputs": [
    {
     "name": "stdout",
     "output_type": "stream",
     "text": [
      "On Tue, 3 Sep 2002, Kragen Sitaker wrote:\n",
      "\n",
      "> Of course we've had select() since BSD 4.2 and poll() since System V\n",
      "\n",
      "> or so, and they work reasonably well for asynchronous I/O up to a\n",
      "\n",
      "> hundred or so channels, but suck after that; /dev/poll (available in\n",
      "\n",
      "> Solaris and Linux) is one approach to solving this; Linux has a way to\n",
      "\n",
      "> do essentially the same thing with real-time signals, and has for\n",
      "\n",
      "> years; and FreeBSD has kqueue.\n",
      "\n",
      ">\n",
      "\n",
      "> More details about these are at\n",
      "\n",
      "> http://www.citi.umich.edu/projects/linux-scalability/\n",
      "\n",
      ">\n",
      "\n",
      "> None of this helps with disk I/O; most programs that need to overlap\n",
      "\n",
      "> disk I/O with computation, on either proprietary Unixes or Linux, just\n",
      "\n",
      "> use multiple threads or processes to handle the disk I/O.\n",
      "\n",
      ">\n",
      "\n",
      "> POSIX specifies a mechanism for nonblocking disk I/O that most\n",
      "\n",
      "> proprietary Unixes implement.  The Linux kernel hackers are currently\n",
      "\n",
      "> rewriting Linux's entire I/O subsystem essentially from scratch to\n",
      "\n",
      "> work asynchronously, because they can easily build efficient\n",
      "\n",
      "> synchronous I/O primitives from asynchronous ones, but not the other\n",
      "\n",
      "> way around. So now Linux will support this mechanism too.\n",
      "\n",
      ">\n",
      "\n",
      "> It probably doesn't need saying for anyone who's read Beberg saying\n",
      "\n",
      "> things like \"Memory management is a non-issue for anyone that has any\n",
      "\n",
      "> idea at all how the hardware functions,\" but he's totally off-base.\n",
      "\n",
      "> People should know by now not to take anything he says seriously, but\n",
      "\n",
      "> apparently some don't, so I'll rebut.\n",
      "\n",
      ">\n",
      "\n",
      "> Not surprisingly, the rebuttal requires many more words than the\n",
      "\n",
      "> original stupid errors.\n",
      "\n",
      ">\n",
      "\n",
      "> In detail, he wrote:\n",
      "\n",
      "> > Could it be? After 20 years without this feature UNIX finally\n",
      "\n",
      "> > catches up to Windows and has I/O that doesnt [sic] totally suck for\n",
      "\n",
      "> > nontrivial apps? No way!\n",
      "\n",
      ">\n",
      "\n",
      "> Unix acquired nonblocking I/O in the form of select() about 23 years\n",
      "\n",
      "> ago, and Solaris has had the particular aio_* calls we are discussing\n",
      "\n",
      "> for many years.  Very few applications need the aio_* calls ---\n",
      "\n",
      "> essentially only high-performance RDBMS servers even benefit from them\n",
      "\n",
      "> at all, and most of those have been faking it fine for a while with\n",
      "\n",
      "> multiple threads or processes.  This just provides a modicum of extra\n",
      "\n",
      "> performance.\n",
      "\n",
      ">\n",
      "\n",
      "> > OK, so they do it with signals or a flag, which is completely\n",
      "\n",
      "> > ghetto, but at least they are trying. Keep trying guys, you got the\n",
      "\n",
      "> > idea, but not the clue.\n",
      "\n",
      ">\n",
      "\n",
      "> Readers can judge who lacks the clue here.\n",
      "\n",
      ">\n",
      "\n",
      "> > The Windows I/O model does definately [sic] blow the doors off the\n",
      "\n",
      "> > UNIX one, but then they had select to point at in it's [sic]\n",
      "\n",
      "> > suckiness and anything would have been an improvement. UNIX is just\n",
      "\n",
      "> > now looking at it's [sic] I/O model and adapting to a multiprocess\n",
      "\n",
      "> > multithreaded world so it's gonna be years yet before a posix API\n",
      "\n",
      "> > comes out of it.\n",
      "\n",
      ">\n",
      "\n",
      "> Although I don't have a copy of the spec handy, I think the aio_* APIs\n",
      "\n",
      "> come from the POSIX spec IEEE Std 1003.1-1990, section 6.7.9, which is\n",
      "\n",
      "> 13 years old, and which I think documented then-current practice.\n",
      "\n",
      "> They might be even older than that.\n",
      "\n",
      ">\n",
      "\n",
      "> Unix has been multiprocess since 1969, and most Unix implementations\n",
      "\n",
      "> have supported multithreading for a decade or more.\n",
      "\n",
      ">\n",
      "\n",
      "> > Bottom line is the \"do stuff when something happens\" model turned\n",
      "\n",
      "> > out to be right, and the UNIX \"look for something to do and keep\n",
      "\n",
      "> > looking till you find it no matter how many times you have to look\"\n",
      "\n",
      "> > is not really working so great anymore.\n",
      "\n",
      ">\n",
      "\n",
      "> Linux's aio_* routines can notify the process of their completion with\n",
      "\n",
      "> a \"signal\", a feature missing in Microsoft Windows; a \"signal\" causes\n",
      "\n",
      "> the immediate execution of a \"signal handler\" in a process.  By\n",
      "\n",
      "> contrast, the Microsoft Windows mechanisms to do similar things (such\n",
      "\n",
      "> as completion ports) do not deliver a notification until the process\n",
      "\n",
      "> polls them.\n",
      "\n",
      ">\n",
      "\n",
      "> I don't think signals are a better way to do things in this case\n",
      "\n",
      "> (although I haven't written any RDBMSes myself), but you got the\n",
      "\n",
      "> technical descriptions of the two operating systems exactly backwards.\n",
      "\n",
      "> Most programs that use Linux real-time signals for asynchronous\n",
      "\n",
      "> network I/O, in fact, block the signal in question and poll the signal\n",
      "\n",
      "> queue in a very Windowsish way, using sigtimedwait() or sigwaitinfo().\n",
      "\n",
      ">\n",
      "\n",
      "> --\n",
      "\n",
      "> <kragen@pobox.com>       Kragen Sitaker     <http://www.pobox.com/~kragen/>\n",
      "\n",
      "> Edsger Wybe Dijkstra died in August of 2002.  This is a terrible loss after\n",
      "\n",
      "> which the world will never be the same.\n",
      "\n",
      "> http://www.xent.com/pipermail/fork/2002-August/013974.html\n",
      "\n",
      ">\n",
      "\n",
      "- Adam L. \"Duncan\" Beberg\n",
      "\n",
      "  http://www.mithral.com/~beberg/\n",
      "\n",
      "  beberg@mithral.com\n",
      "\n"
     ]
    }
   ],
   "source": [
    "print(message)"
   ]
  },
  {
   "cell_type": "code",
   "execution_count": 61,
   "metadata": {},
   "outputs": [],
   "source": [
    "rows = [{'message':message,'class':'ham'}]\n",
    "index = ['00417.7ec0b5a250ddfd52a9b46385688f9f9c',]"
   ]
  },
  {
   "cell_type": "code",
   "execution_count": 62,
   "metadata": {},
   "outputs": [
    {
     "data": {
      "text/plain": [
       "[{'message': 'On Tue, 3 Sep 2002, Kragen Sitaker wrote:\\n\\n> Of course we\\'ve had select() since BSD 4.2 and poll() since System V\\n\\n> or so, and they work reasonably well for asynchronous I/O up to a\\n\\n> hundred or so channels, but suck after that; /dev/poll (available in\\n\\n> Solaris and Linux) is one approach to solving this; Linux has a way to\\n\\n> do essentially the same thing with real-time signals, and has for\\n\\n> years; and FreeBSD has kqueue.\\n\\n>\\n\\n> More details about these are at\\n\\n> http://www.citi.umich.edu/projects/linux-scalability/\\n\\n>\\n\\n> None of this helps with disk I/O; most programs that need to overlap\\n\\n> disk I/O with computation, on either proprietary Unixes or Linux, just\\n\\n> use multiple threads or processes to handle the disk I/O.\\n\\n>\\n\\n> POSIX specifies a mechanism for nonblocking disk I/O that most\\n\\n> proprietary Unixes implement.  The Linux kernel hackers are currently\\n\\n> rewriting Linux\\'s entire I/O subsystem essentially from scratch to\\n\\n> work asynchronously, because they can easily build efficient\\n\\n> synchronous I/O primitives from asynchronous ones, but not the other\\n\\n> way around. So now Linux will support this mechanism too.\\n\\n>\\n\\n> It probably doesn\\'t need saying for anyone who\\'s read Beberg saying\\n\\n> things like \"Memory management is a non-issue for anyone that has any\\n\\n> idea at all how the hardware functions,\" but he\\'s totally off-base.\\n\\n> People should know by now not to take anything he says seriously, but\\n\\n> apparently some don\\'t, so I\\'ll rebut.\\n\\n>\\n\\n> Not surprisingly, the rebuttal requires many more words than the\\n\\n> original stupid errors.\\n\\n>\\n\\n> In detail, he wrote:\\n\\n> > Could it be? After 20 years without this feature UNIX finally\\n\\n> > catches up to Windows and has I/O that doesnt [sic] totally suck for\\n\\n> > nontrivial apps? No way!\\n\\n>\\n\\n> Unix acquired nonblocking I/O in the form of select() about 23 years\\n\\n> ago, and Solaris has had the particular aio_* calls we are discussing\\n\\n> for many years.  Very few applications need the aio_* calls ---\\n\\n> essentially only high-performance RDBMS servers even benefit from them\\n\\n> at all, and most of those have been faking it fine for a while with\\n\\n> multiple threads or processes.  This just provides a modicum of extra\\n\\n> performance.\\n\\n>\\n\\n> > OK, so they do it with signals or a flag, which is completely\\n\\n> > ghetto, but at least they are trying. Keep trying guys, you got the\\n\\n> > idea, but not the clue.\\n\\n>\\n\\n> Readers can judge who lacks the clue here.\\n\\n>\\n\\n> > The Windows I/O model does definately [sic] blow the doors off the\\n\\n> > UNIX one, but then they had select to point at in it\\'s [sic]\\n\\n> > suckiness and anything would have been an improvement. UNIX is just\\n\\n> > now looking at it\\'s [sic] I/O model and adapting to a multiprocess\\n\\n> > multithreaded world so it\\'s gonna be years yet before a posix API\\n\\n> > comes out of it.\\n\\n>\\n\\n> Although I don\\'t have a copy of the spec handy, I think the aio_* APIs\\n\\n> come from the POSIX spec IEEE Std 1003.1-1990, section 6.7.9, which is\\n\\n> 13 years old, and which I think documented then-current practice.\\n\\n> They might be even older than that.\\n\\n>\\n\\n> Unix has been multiprocess since 1969, and most Unix implementations\\n\\n> have supported multithreading for a decade or more.\\n\\n>\\n\\n> > Bottom line is the \"do stuff when something happens\" model turned\\n\\n> > out to be right, and the UNIX \"look for something to do and keep\\n\\n> > looking till you find it no matter how many times you have to look\"\\n\\n> > is not really working so great anymore.\\n\\n>\\n\\n> Linux\\'s aio_* routines can notify the process of their completion with\\n\\n> a \"signal\", a feature missing in Microsoft Windows; a \"signal\" causes\\n\\n> the immediate execution of a \"signal handler\" in a process.  By\\n\\n> contrast, the Microsoft Windows mechanisms to do similar things (such\\n\\n> as completion ports) do not deliver a notification until the process\\n\\n> polls them.\\n\\n>\\n\\n> I don\\'t think signals are a better way to do things in this case\\n\\n> (although I haven\\'t written any RDBMSes myself), but you got the\\n\\n> technical descriptions of the two operating systems exactly backwards.\\n\\n> Most programs that use Linux real-time signals for asynchronous\\n\\n> network I/O, in fact, block the signal in question and poll the signal\\n\\n> queue in a very Windowsish way, using sigtimedwait() or sigwaitinfo().\\n\\n>\\n\\n> --\\n\\n> <kragen@pobox.com>       Kragen Sitaker     <http://www.pobox.com/~kragen/>\\n\\n> Edsger Wybe Dijkstra died in August of 2002.  This is a terrible loss after\\n\\n> which the world will never be the same.\\n\\n> http://www.xent.com/pipermail/fork/2002-August/013974.html\\n\\n>\\n\\n- Adam L. \"Duncan\" Beberg\\n\\n  http://www.mithral.com/~beberg/\\n\\n  beberg@mithral.com\\n',\n",
       "  'class': 'ham'}]"
      ]
     },
     "execution_count": 62,
     "metadata": {},
     "output_type": "execute_result"
    }
   ],
   "source": [
    "rows"
   ]
  },
  {
   "cell_type": "code",
   "execution_count": 63,
   "metadata": {},
   "outputs": [],
   "source": [
    "inBody = False\n",
    "message = []\n",
    "for line in open('emails/spam/00241.c28ade5771085a8fddd054a219566b7c') : \n",
    "    if line == '\\n' : \n",
    "        inBody = True\n",
    "    elif inBody : \n",
    "        message.append(line)"
   ]
  },
  {
   "cell_type": "code",
   "execution_count": 64,
   "metadata": {},
   "outputs": [],
   "source": [
    "rows.append({'message':message,'class':'spam'})\n",
    "index.append('00241.c28ade5771085a8fddd054a219566b7c')"
   ]
  },
  {
   "cell_type": "code",
   "execution_count": 65,
   "metadata": {},
   "outputs": [
    {
     "data": {
      "text/plain": [
       "['00417.7ec0b5a250ddfd52a9b46385688f9f9c',\n",
       " '00241.c28ade5771085a8fddd054a219566b7c']"
      ]
     },
     "execution_count": 65,
     "metadata": {},
     "output_type": "execute_result"
    }
   ],
   "source": [
    "index"
   ]
  },
  {
   "cell_type": "code",
   "execution_count": 68,
   "metadata": {},
   "outputs": [],
   "source": [
    "import pandas as pd"
   ]
  },
  {
   "cell_type": "code",
   "execution_count": null,
   "metadata": {},
   "outputs": [],
   "source": []
  },
  {
   "cell_type": "code",
   "execution_count": 69,
   "metadata": {},
   "outputs": [],
   "source": [
    "df = pd.DataFrame(rows,index=index)"
   ]
  },
  {
   "cell_type": "code",
   "execution_count": 70,
   "metadata": {},
   "outputs": [
    {
     "data": {
      "text/html": [
       "<div>\n",
       "<style scoped>\n",
       "    .dataframe tbody tr th:only-of-type {\n",
       "        vertical-align: middle;\n",
       "    }\n",
       "\n",
       "    .dataframe tbody tr th {\n",
       "        vertical-align: top;\n",
       "    }\n",
       "\n",
       "    .dataframe thead th {\n",
       "        text-align: right;\n",
       "    }\n",
       "</style>\n",
       "<table border=\"1\" class=\"dataframe\">\n",
       "  <thead>\n",
       "    <tr style=\"text-align: right;\">\n",
       "      <th></th>\n",
       "      <th>class</th>\n",
       "      <th>message</th>\n",
       "    </tr>\n",
       "  </thead>\n",
       "  <tbody>\n",
       "    <tr>\n",
       "      <th>00417.7ec0b5a250ddfd52a9b46385688f9f9c</th>\n",
       "      <td>ham</td>\n",
       "      <td>On Tue, 3 Sep 2002, Kragen Sitaker wrote:\\n\\n&gt;...</td>\n",
       "    </tr>\n",
       "    <tr>\n",
       "      <th>00241.c28ade5771085a8fddd054a219566b7c</th>\n",
       "      <td>spam</td>\n",
       "      <td>[------=_NextPart_000_00B6_07E34C7A.C3030C43\\n...</td>\n",
       "    </tr>\n",
       "  </tbody>\n",
       "</table>\n",
       "</div>"
      ],
      "text/plain": [
       "                                       class  \\\n",
       "00417.7ec0b5a250ddfd52a9b46385688f9f9c   ham   \n",
       "00241.c28ade5771085a8fddd054a219566b7c  spam   \n",
       "\n",
       "                                                                                  message  \n",
       "00417.7ec0b5a250ddfd52a9b46385688f9f9c  On Tue, 3 Sep 2002, Kragen Sitaker wrote:\\n\\n>...  \n",
       "00241.c28ade5771085a8fddd054a219566b7c  [------=_NextPart_000_00B6_07E34C7A.C3030C43\\n...  "
      ]
     },
     "execution_count": 70,
     "metadata": {},
     "output_type": "execute_result"
    }
   ],
   "source": [
    "df"
   ]
  },
  {
   "cell_type": "code",
   "execution_count": 75,
   "metadata": {},
   "outputs": [],
   "source": [
    "df1 = pd.DataFrame([{'message':'hello world it\"s free','class':\"spam\"}],index=[\"aasljflkds\"])"
   ]
  },
  {
   "cell_type": "code",
   "execution_count": 76,
   "metadata": {},
   "outputs": [
    {
     "data": {
      "text/html": [
       "<div>\n",
       "<style scoped>\n",
       "    .dataframe tbody tr th:only-of-type {\n",
       "        vertical-align: middle;\n",
       "    }\n",
       "\n",
       "    .dataframe tbody tr th {\n",
       "        vertical-align: top;\n",
       "    }\n",
       "\n",
       "    .dataframe thead th {\n",
       "        text-align: right;\n",
       "    }\n",
       "</style>\n",
       "<table border=\"1\" class=\"dataframe\">\n",
       "  <thead>\n",
       "    <tr style=\"text-align: right;\">\n",
       "      <th></th>\n",
       "      <th>class</th>\n",
       "      <th>message</th>\n",
       "    </tr>\n",
       "  </thead>\n",
       "  <tbody>\n",
       "    <tr>\n",
       "      <th>aasljflkds</th>\n",
       "      <td>spam</td>\n",
       "      <td>hello world it\"s free</td>\n",
       "    </tr>\n",
       "  </tbody>\n",
       "</table>\n",
       "</div>"
      ],
      "text/plain": [
       "           class                message\n",
       "aasljflkds  spam  hello world it\"s free"
      ]
     },
     "execution_count": 76,
     "metadata": {},
     "output_type": "execute_result"
    }
   ],
   "source": [
    "df1"
   ]
  },
  {
   "cell_type": "code",
   "execution_count": 77,
   "metadata": {},
   "outputs": [
    {
     "data": {
      "text/html": [
       "<div>\n",
       "<style scoped>\n",
       "    .dataframe tbody tr th:only-of-type {\n",
       "        vertical-align: middle;\n",
       "    }\n",
       "\n",
       "    .dataframe tbody tr th {\n",
       "        vertical-align: top;\n",
       "    }\n",
       "\n",
       "    .dataframe thead th {\n",
       "        text-align: right;\n",
       "    }\n",
       "</style>\n",
       "<table border=\"1\" class=\"dataframe\">\n",
       "  <thead>\n",
       "    <tr style=\"text-align: right;\">\n",
       "      <th></th>\n",
       "      <th>class</th>\n",
       "      <th>message</th>\n",
       "    </tr>\n",
       "  </thead>\n",
       "  <tbody>\n",
       "    <tr>\n",
       "      <th>00417.7ec0b5a250ddfd52a9b46385688f9f9c</th>\n",
       "      <td>ham</td>\n",
       "      <td>On Tue, 3 Sep 2002, Kragen Sitaker wrote:\\n\\n&gt;...</td>\n",
       "    </tr>\n",
       "    <tr>\n",
       "      <th>00241.c28ade5771085a8fddd054a219566b7c</th>\n",
       "      <td>spam</td>\n",
       "      <td>[------=_NextPart_000_00B6_07E34C7A.C3030C43\\n...</td>\n",
       "    </tr>\n",
       "    <tr>\n",
       "      <th>aasljflkds</th>\n",
       "      <td>spam</td>\n",
       "      <td>hello world it\"s free</td>\n",
       "    </tr>\n",
       "  </tbody>\n",
       "</table>\n",
       "</div>"
      ],
      "text/plain": [
       "                                       class  \\\n",
       "00417.7ec0b5a250ddfd52a9b46385688f9f9c   ham   \n",
       "00241.c28ade5771085a8fddd054a219566b7c  spam   \n",
       "aasljflkds                              spam   \n",
       "\n",
       "                                                                                  message  \n",
       "00417.7ec0b5a250ddfd52a9b46385688f9f9c  On Tue, 3 Sep 2002, Kragen Sitaker wrote:\\n\\n>...  \n",
       "00241.c28ade5771085a8fddd054a219566b7c  [------=_NextPart_000_00B6_07E34C7A.C3030C43\\n...  \n",
       "aasljflkds                                                          hello world it\"s free  "
      ]
     },
     "execution_count": 77,
     "metadata": {},
     "output_type": "execute_result"
    }
   ],
   "source": [
    "df.append(df1)"
   ]
  },
  {
   "cell_type": "code",
   "execution_count": null,
   "metadata": {},
   "outputs": [],
   "source": [
    "df"
   ]
  }
 ],
 "metadata": {
  "kernelspec": {
   "display_name": "Python 3",
   "language": "python",
   "name": "python3"
  },
  "language_info": {
   "codemirror_mode": {
    "name": "ipython",
    "version": 3
   },
   "file_extension": ".py",
   "mimetype": "text/x-python",
   "name": "python",
   "nbconvert_exporter": "python",
   "pygments_lexer": "ipython3",
   "version": "3.7.3"
  }
 },
 "nbformat": 4,
 "nbformat_minor": 2
}
