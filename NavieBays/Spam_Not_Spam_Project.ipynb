{
 "cells": [
  {
   "cell_type": "code",
   "execution_count": 3,
   "metadata": {},
   "outputs": [],
   "source": [
    "import os\n",
    "import io\n",
    "import numpy\n",
    "from pandas import DataFrame\n",
    "from sklearn.feature_extraction.text import CountVectorizer\n",
    "from sklearn.naive_bayes import MultinomialNB"
   ]
  },
  {
   "cell_type": "code",
   "execution_count": 5,
   "metadata": {},
   "outputs": [
    {
     "data": {
      "text/plain": [
       "'C:\\\\Users\\\\hp\\\\Desktop\\\\MachineLearning\\\\Spam_Classifier'"
      ]
     },
     "execution_count": 5,
     "metadata": {},
     "output_type": "execute_result"
    }
   ],
   "source": [
    "os.getcwd()"
   ]
  },
  {
   "cell_type": "code",
   "execution_count": 15,
   "metadata": {},
   "outputs": [
    {
     "name": "stdout",
     "output_type": "stream",
     "text": [
      "Writing hello.py\n"
     ]
    }
   ],
   "source": [
    "%%writefile hello.py\n",
    "lskjlk\n",
    "ldfkjds\n",
    "fsdf\n"
   ]
  },
  {
   "cell_type": "code",
   "execution_count": 9,
   "metadata": {},
   "outputs": [
    {
     "data": {
      "text/plain": [
       "True"
      ]
     },
     "execution_count": 9,
     "metadata": {},
     "output_type": "execute_result"
    }
   ],
   "source": [
    "os.path.exists('hello.py')"
   ]
  },
  {
   "cell_type": "code",
   "execution_count": 11,
   "metadata": {},
   "outputs": [],
   "source": [
    "os.unlink(\"hello.py\") # used to delete anyf file"
   ]
  },
  {
   "cell_type": "code",
   "execution_count": 14,
   "metadata": {},
   "outputs": [
    {
     "data": {
      "text/plain": [
       "['All Users', 'Default', 'Default User', 'desktop.ini', 'hp', 'Public']"
      ]
     },
     "execution_count": 14,
     "metadata": {},
     "output_type": "execute_result"
    }
   ],
   "source": [
    "os.listdir(\"C:\\\\users\")"
   ]
  },
  {
   "cell_type": "code",
   "execution_count": 16,
   "metadata": {},
   "outputs": [
    {
     "data": {
      "text/plain": [
       "True"
      ]
     },
     "execution_count": 16,
     "metadata": {},
     "output_type": "execute_result"
    }
   ],
   "source": [
    "os.access(\"hello.py\",os.R_OK)"
   ]
  },
  {
   "cell_type": "code",
   "execution_count": 17,
   "metadata": {},
   "outputs": [
    {
     "data": {
      "text/plain": [
       "'C:\\\\Users\\\\hp\\\\Desktop\\\\MachineLearning\\\\Spam_Classifier'"
      ]
     },
     "execution_count": 17,
     "metadata": {},
     "output_type": "execute_result"
    }
   ],
   "source": [
    "os.path.abspath('./')"
   ]
  },
  {
   "cell_type": "code",
   "execution_count": 19,
   "metadata": {},
   "outputs": [
    {
     "data": {
      "text/plain": [
       "'c:\\\\users\\\\hp\\\\Desktop\\\\MachineLearning\\\\Spam_Classifier'"
      ]
     },
     "execution_count": 19,
     "metadata": {},
     "output_type": "execute_result"
    }
   ],
   "source": [
    "path1 = \"c:\\\\users\\\\hp\"\n",
    "path2 = \"Desktop\\\\MachineLearning\\\\Spam_Classifier\"\n",
    "path = os.path.join(path1,path2)\n",
    "path"
   ]
  },
  {
   "cell_type": "code",
   "execution_count": 23,
   "metadata": {},
   "outputs": [],
   "source": [
    "os.mkdir('test')\n",
    "os.mkdir('test/a')\n",
    "os.mkdir('test/a/c')\n",
    "os.mkdir('test/a/d')\n",
    "os.mkdir('test/b')\n",
    "os.mkdir('test/b/e')\n",
    "os.mkdir('test/b/e/f')\n"
   ]
  },
  {
   "cell_type": "code",
   "execution_count": 24,
   "metadata": {},
   "outputs": [
    {
     "data": {
      "text/plain": [
       "17"
      ]
     },
     "execution_count": 24,
     "metadata": {},
     "output_type": "execute_result"
    }
   ],
   "source": [
    "open(\"test/let.txt\",\"w\").write(\"hello i am test file\")\n",
    "open(\"test/a/hello.txt\",\"w\").write(\"hello i am hello.txt inside a\")\n",
    "open(\"test/a/bye.txt\",\"w\").write(\"Hello i am bye by a\")\n",
    "open(\"test/b/e/bye.txt\",\"w\").write(\"Hello bye from b\")\n",
    "open(\"test/b/e/f/f.txt\",\"w\").write(\"amzing isn't it\")\n",
    "open(\"test/b/hello.txt\",\"w\").write(\"i am the last one\")"
   ]
  },
  {
   "cell_type": "code",
   "execution_count": 28,
   "metadata": {},
   "outputs": [
    {
     "name": "stdout",
     "output_type": "stream",
     "text": [
      "files inside test folder :  ['a', 'b', 'let.txt']\n",
      "files are :  ['let.txt']\n",
      "dires are :  ['a', 'b']\n"
     ]
    }
   ],
   "source": [
    "files = os.listdir(\"test\")\n",
    "print(\"files inside test folder : \",files)\n",
    "f = []\n",
    "d = []\n",
    "for file in files : \n",
    "    path = os.path.join(\"test\",file)\n",
    "    if os.path.isfile(path):\n",
    "        f.append(file)\n",
    "    else : \n",
    "        d.append(file)\n",
    "print(\"files are : \",f)\n",
    "print(\"dires are : \",d)"
   ]
  },
  {
   "cell_type": "code",
   "execution_count": 30,
   "metadata": {},
   "outputs": [
    {
     "name": "stdout",
     "output_type": "stream",
     "text": [
      "('test', ['a', 'b'], ['let.txt'])\n",
      "('test\\\\a', ['c', 'd'], ['bye.txt', 'hello.txt'])\n",
      "('test\\\\a\\\\c', [], [])\n",
      "('test\\\\a\\\\d', [], [])\n",
      "('test\\\\b', ['e'], ['hello.txt'])\n",
      "('test\\\\b\\\\e', ['f'], ['bye.txt'])\n",
      "('test\\\\b\\\\e\\\\f', [], ['f.txt'])\n"
     ]
    }
   ],
   "source": [
    "print(*os.walk('test'),sep=\"\\n\")"
   ]
  },
  {
   "cell_type": "code",
   "execution_count": null,
   "metadata": {},
   "outputs": [],
   "source": []
  },
  {
   "cell_type": "code",
   "execution_count": 33,
   "metadata": {},
   "outputs": [],
   "source": [
    "\n",
    "def readFiles(path):\n",
    "    for root, dirnames, filenames in os.walk(path):\n",
    "        for filename in filenames:\n",
    "            path = os.path.join(root, filename)\n",
    "            inBody = False\n",
    "            lines = []\n",
    "            f = io.open(path, 'r', encoding='latin1')\n",
    "            for line in f:\n",
    "                if inBody:\n",
    "                    lines.append(line)\n",
    "                elif line == '\\n':\n",
    "                    inBody = True\n",
    "            f.close()\n",
    "            message = '\\n'.join(lines)\n",
    "            yield filename, message\n",
    "\n",
    "\n",
    "def dataFrameFromDirectory(path, classification):\n",
    "    rows = []\n",
    "    index = []\n",
    "    for filename, message in readFiles(path):\n",
    "        rows.append({'message': message, 'class': classification})\n",
    "        index.append(filename)\n",
    "\n",
    "    return DataFrame(rows, index=index)\n",
    "\n",
    "data = DataFrame({'message': [], 'class': []})\n",
    "\n",
    "data = data.append(dataFrameFromDirectory(os.path.join('emails/spam'), 'spam'))\n",
    "data = data.append(dataFrameFromDirectory(os.path.join('emails/ham'), 'ham'))\n",
    "\n"
   ]
  },
  {
   "cell_type": "code",
   "execution_count": 36,
   "metadata": {},
   "outputs": [
    {
     "data": {
      "text/html": [
       "<div>\n",
       "<style scoped>\n",
       "    .dataframe tbody tr th:only-of-type {\n",
       "        vertical-align: middle;\n",
       "    }\n",
       "\n",
       "    .dataframe tbody tr th {\n",
       "        vertical-align: top;\n",
       "    }\n",
       "\n",
       "    .dataframe thead th {\n",
       "        text-align: right;\n",
       "    }\n",
       "</style>\n",
       "<table border=\"1\" class=\"dataframe\">\n",
       "  <thead>\n",
       "    <tr style=\"text-align: right;\">\n",
       "      <th></th>\n",
       "      <th>class</th>\n",
       "      <th>message</th>\n",
       "    </tr>\n",
       "  </thead>\n",
       "  <tbody>\n",
       "    <tr>\n",
       "      <th>00001.7848dde101aa985090474a91ec93fcf0</th>\n",
       "      <td>spam</td>\n",
       "      <td>&lt;!DOCTYPE HTML PUBLIC \"-//W3C//DTD HTML 4.0 Tr...</td>\n",
       "    </tr>\n",
       "    <tr>\n",
       "      <th>00002.d94f1b97e48ed3b553b3508d116e6a09</th>\n",
       "      <td>spam</td>\n",
       "      <td>1) Fight The Risk of Cancer!\\n\\nhttp://www.adc...</td>\n",
       "    </tr>\n",
       "    <tr>\n",
       "      <th>00003.2ee33bc6eacdb11f38d052c44819ba6c</th>\n",
       "      <td>spam</td>\n",
       "      <td>1) Fight The Risk of Cancer!\\n\\nhttp://www.adc...</td>\n",
       "    </tr>\n",
       "    <tr>\n",
       "      <th>00004.eac8de8d759b7e74154f142194282724</th>\n",
       "      <td>spam</td>\n",
       "      <td>##############################################...</td>\n",
       "    </tr>\n",
       "    <tr>\n",
       "      <th>00005.57696a39d7d84318ce497886896bf90d</th>\n",
       "      <td>spam</td>\n",
       "      <td>I thought you might like these:\\n\\n1) Slim Dow...</td>\n",
       "    </tr>\n",
       "  </tbody>\n",
       "</table>\n",
       "</div>"
      ],
      "text/plain": [
       "                                       class  \\\n",
       "00001.7848dde101aa985090474a91ec93fcf0  spam   \n",
       "00002.d94f1b97e48ed3b553b3508d116e6a09  spam   \n",
       "00003.2ee33bc6eacdb11f38d052c44819ba6c  spam   \n",
       "00004.eac8de8d759b7e74154f142194282724  spam   \n",
       "00005.57696a39d7d84318ce497886896bf90d  spam   \n",
       "\n",
       "                                                                                  message  \n",
       "00001.7848dde101aa985090474a91ec93fcf0  <!DOCTYPE HTML PUBLIC \"-//W3C//DTD HTML 4.0 Tr...  \n",
       "00002.d94f1b97e48ed3b553b3508d116e6a09  1) Fight The Risk of Cancer!\\n\\nhttp://www.adc...  \n",
       "00003.2ee33bc6eacdb11f38d052c44819ba6c  1) Fight The Risk of Cancer!\\n\\nhttp://www.adc...  \n",
       "00004.eac8de8d759b7e74154f142194282724  ##############################################...  \n",
       "00005.57696a39d7d84318ce497886896bf90d  I thought you might like these:\\n\\n1) Slim Dow...  "
      ]
     },
     "execution_count": 36,
     "metadata": {},
     "output_type": "execute_result"
    }
   ],
   "source": [
    "data.head()"
   ]
  },
  {
   "cell_type": "code",
   "execution_count": 37,
   "metadata": {},
   "outputs": [
    {
     "data": {
      "text/html": [
       "<div>\n",
       "<style scoped>\n",
       "    .dataframe tbody tr th:only-of-type {\n",
       "        vertical-align: middle;\n",
       "    }\n",
       "\n",
       "    .dataframe tbody tr th {\n",
       "        vertical-align: top;\n",
       "    }\n",
       "\n",
       "    .dataframe thead th {\n",
       "        text-align: right;\n",
       "    }\n",
       "</style>\n",
       "<table border=\"1\" class=\"dataframe\">\n",
       "  <thead>\n",
       "    <tr style=\"text-align: right;\">\n",
       "      <th></th>\n",
       "      <th>class</th>\n",
       "      <th>message</th>\n",
       "    </tr>\n",
       "  </thead>\n",
       "  <tbody>\n",
       "    <tr>\n",
       "      <th>02496.aae0c81581895acfe65323f344340856</th>\n",
       "      <td>ham</td>\n",
       "      <td>Man killed 'trying to surf' on Tube train \\n\\n...</td>\n",
       "    </tr>\n",
       "    <tr>\n",
       "      <th>02497.60497db0a06c2132ec2374b2898084d3</th>\n",
       "      <td>ham</td>\n",
       "      <td>Hi Gianni,\\n\\n\\n\\nA very good resource for thi...</td>\n",
       "    </tr>\n",
       "    <tr>\n",
       "      <th>02498.09835f512f156da210efb99fcc523e21</th>\n",
       "      <td>ham</td>\n",
       "      <td>Gianni Ponzi wrote:\\n\\n&gt; I have a prob when tr...</td>\n",
       "    </tr>\n",
       "    <tr>\n",
       "      <th>02499.b4af165650f138b10f9941f6cc5bce3c</th>\n",
       "      <td>ham</td>\n",
       "      <td>Neale Pickett &lt;neale@woozle.org&gt; writes:\\n\\n\\n...</td>\n",
       "    </tr>\n",
       "    <tr>\n",
       "      <th>02500.05b3496ce7bca306bed0805425ec8621</th>\n",
       "      <td>ham</td>\n",
       "      <td>\\n\\nHi,\\n\\n\\n\\nI think you need to give us a l...</td>\n",
       "    </tr>\n",
       "  </tbody>\n",
       "</table>\n",
       "</div>"
      ],
      "text/plain": [
       "                                       class  \\\n",
       "02496.aae0c81581895acfe65323f344340856   ham   \n",
       "02497.60497db0a06c2132ec2374b2898084d3   ham   \n",
       "02498.09835f512f156da210efb99fcc523e21   ham   \n",
       "02499.b4af165650f138b10f9941f6cc5bce3c   ham   \n",
       "02500.05b3496ce7bca306bed0805425ec8621   ham   \n",
       "\n",
       "                                                                                  message  \n",
       "02496.aae0c81581895acfe65323f344340856  Man killed 'trying to surf' on Tube train \\n\\n...  \n",
       "02497.60497db0a06c2132ec2374b2898084d3  Hi Gianni,\\n\\n\\n\\nA very good resource for thi...  \n",
       "02498.09835f512f156da210efb99fcc523e21  Gianni Ponzi wrote:\\n\\n> I have a prob when tr...  \n",
       "02499.b4af165650f138b10f9941f6cc5bce3c  Neale Pickett <neale@woozle.org> writes:\\n\\n\\n...  \n",
       "02500.05b3496ce7bca306bed0805425ec8621  \\n\\nHi,\\n\\n\\n\\nI think you need to give us a l...  "
      ]
     },
     "execution_count": 37,
     "metadata": {},
     "output_type": "execute_result"
    }
   ],
   "source": [
    "data.tail()"
   ]
  },
  {
   "cell_type": "code",
   "execution_count": 40,
   "metadata": {},
   "outputs": [
    {
     "data": {
      "text/plain": [
       "00341.99b463b92346291f5848137f4a253966    234358\n",
       "00307.7ed50c6d80c6e37c8cc1b132f4a19e4d    186599\n",
       "00481.5c95b526e965fa325044123c4ce29c1f    128028\n",
       "00677.b957e34b4dd0d9263b56bf71b1168d8a     89733\n",
       "00670.be029e37187b8615a231865e3663dcf9     87384\n",
       "Name: message, dtype: int64"
      ]
     },
     "execution_count": 40,
     "metadata": {},
     "output_type": "execute_result"
    }
   ],
   "source": [
    "data['message'].apply(lambda word:len(word)).sort_values(ascending=False)[:5]"
   ]
  },
  {
   "cell_type": "code",
   "execution_count": 42,
   "metadata": {},
   "outputs": [
    {
     "data": {
      "text/plain": [
       "00341.99b463b92346291f5848137f4a253966    234358\n",
       "00307.7ed50c6d80c6e37c8cc1b132f4a19e4d    186599\n",
       "00481.5c95b526e965fa325044123c4ce29c1f    128028\n",
       "00245.f129d5e7df2eebd03948bb4f33fa7107     71778\n",
       "00256.edd9bfb44729edf3c4f177814fd8c9e1     61077\n",
       "00330.c5f7346dec1e6fe6ed324d8e78a2b46e     60603\n",
       "00260.c75ce8b8d8bfc55723426979d260bf61     41919\n",
       "00039.889d785885f092c269741b11f2124dce     38054\n",
       "00008.dfd941deb10f5eed78b1594b131c9266     30266\n",
       "00405.3163fff27ff95b91afd656f0025c6a83     27981\n",
       "00476.af3a29817853a5c56bae5257c2d4b742     27671\n",
       "00282.0e230e05877f40a522bfb93aa3e314f3     27658\n",
       "00237.9cee6fd8bdd653d21d92158e702adf50     26276\n",
       "00489.023c1d77de9365cad956a4c9118aee4b     24147\n",
       "00435.69467ebbdbdd2d891624bf8fccda579f     23139\n",
       "Name: message, dtype: int64"
      ]
     },
     "execution_count": 42,
     "metadata": {},
     "output_type": "execute_result"
    }
   ],
   "source": [
    "data[data['class']=='spam']['message'].apply(lambda word:len(word)).sort_values(ascending=False)[:15]"
   ]
  },
  {
   "cell_type": "code",
   "execution_count": 51,
   "metadata": {},
   "outputs": [
    {
     "data": {
      "text/plain": [
       "00341.99b463b92346291f5848137f4a253966    234358\n",
       "00307.7ed50c6d80c6e37c8cc1b132f4a19e4d    186599\n",
       "00481.5c95b526e965fa325044123c4ce29c1f    128028\n",
       "00677.b957e34b4dd0d9263b56bf71b1168d8a     89733\n",
       "00670.be029e37187b8615a231865e3663dcf9     87384\n",
       "00245.f129d5e7df2eebd03948bb4f33fa7107     71778\n",
       "00256.edd9bfb44729edf3c4f177814fd8c9e1     61077\n",
       "00330.c5f7346dec1e6fe6ed324d8e78a2b46e     60603\n",
       "00166.8feace9f17d092d9532e62c35c37ce95     49994\n",
       "00260.c75ce8b8d8bfc55723426979d260bf61     41919\n",
       "00570.d98ca90ac201b5d881f2397c95838eb2     41479\n",
       "00942.727cb1619115cdee240fa418da19dd1f     39147\n",
       "00039.889d785885f092c269741b11f2124dce     38054\n",
       "00265.d0ebd6ba8f3e2b8d71e9cdaa2ec6fd91     35979\n",
       "00765.ea01c46568902b1338c9685b55d77f6c     35613\n",
       "Name: message, dtype: int64"
      ]
     },
     "execution_count": 51,
     "metadata": {},
     "output_type": "execute_result"
    }
   ],
   "source": [
    "s = data['message'].apply(lambda word:len(word)).sort_values(ascending=False)[:15]\n",
    "s"
   ]
  },
  {
   "cell_type": "code",
   "execution_count": 52,
   "metadata": {},
   "outputs": [],
   "source": [
    "label = data.loc[s.index,:]['class']"
   ]
  },
  {
   "cell_type": "code",
   "execution_count": 54,
   "metadata": {},
   "outputs": [
    {
     "data": {
      "image/png": "[encoded data removed]",
      "text/plain": [
       "<Figure size 432x288 with 1 Axes>"
      ]
     },
     "metadata": {
      "needs_background": "light"
     },
     "output_type": "display_data"
    }
   ],
   "source": [
    "import matplotlib.pyplot as plt\n",
    "\n",
    "plt.bar(x=label,height=s.values)\n",
    "plt.show()"
   ]
  },
  {
   "cell_type": "code",
   "execution_count": 56,
   "metadata": {},
   "outputs": [
    {
     "name": "stdout",
     "output_type": "stream",
     "text": [
      "['Hello World how how  are you this is is good', \"hi world this is good let's go go go go this this this \", \"let's have fun fun fun have fun\"]\n",
      "{'hello': 5, 'world': 11, 'how': 7, 'are': 0, 'you': 12, 'this': 10, 'is': 8, 'good': 3, 'hi': 6, 'let': 9, 'go': 2, 'have': 4, 'fun': 1}\n",
      "  (0, 3)\t1\n",
      "  (0, 8)\t2\n",
      "  (0, 10)\t1\n",
      "  (0, 12)\t1\n",
      "  (0, 0)\t1\n",
      "  (0, 7)\t2\n",
      "  (0, 11)\t1\n",
      "  (0, 5)\t1\n",
      "  (1, 2)\t4\n",
      "  (1, 9)\t1\n",
      "  (1, 6)\t1\n",
      "  (1, 3)\t1\n",
      "  (1, 8)\t1\n",
      "  (1, 10)\t4\n",
      "  (1, 11)\t1\n",
      "  (2, 1)\t4\n",
      "  (2, 4)\t2\n",
      "  (2, 9)\t1\n"
     ]
    }
   ],
   "source": [
    "from sklearn.feature_extraction.text import CountVectorizer\n",
    "\n",
    "obj  = CountVectorizer()\n",
    "data = [\"Hello World how how  are you this is is good\",\n",
    "        \"hi world this is good let's go go go go this this this \",\n",
    "        \"let's have fun fun fun have fun\" ]\n",
    "\n",
    "x = obj.fit_transform(data)\n",
    "print(data)\n",
    "print(obj.vocabulary_)\n",
    "print(x)"
   ]
  },
  {
   "cell_type": "code",
   "execution_count": null,
   "metadata": {},
   "outputs": [],
   "source": []
  },
  {
   "cell_type": "code",
   "execution_count": null,
   "metadata": {},
   "outputs": [],
   "source": []
  },
  {
   "cell_type": "code",
   "execution_count": 57,
   "metadata": {},
   "outputs": [
    {
     "name": "stderr",
     "output_type": "stream",
     "text": [
      "C:\\Anaconda3\\lib\\site-packages\\pandas\\core\\frame.py:6692: FutureWarning: Sorting because non-concatenation axis is not aligned. A future version\n",
      "of pandas will change to not sort by default.\n",
      "\n",
      "To accept the future behavior, pass 'sort=False'.\n",
      "\n",
      "To retain the current behavior and silence the warning, pass 'sort=True'.\n",
      "\n",
      "  sort=sort)\n"
     ]
    },
    {
     "data": {
      "text/plain": [
       "MultinomialNB(alpha=1.0, class_prior=None, fit_prior=True)"
      ]
     },
     "execution_count": 57,
     "metadata": {},
     "output_type": "execute_result"
    }
   ],
   "source": [
    "from sklearn.feature_extraction.text import CountVectorizer\n",
    "from sklearn.naive_bayes import MultinomialNB\n",
    "\n",
    "data = DataFrame({'message': [], 'class': []})\n",
    "data = data.append(dataFrameFromDirectory(os.path.join('emails/spam'), 'spam'))\n",
    "data = data.append(dataFrameFromDirectory(os.path.join('emails/ham'), 'ham'))\n",
    "\n",
    "vectorizer = CountVectorizer()\n",
    "\n",
    "counts = vectorizer.fit_transform(data['message'].values)\n",
    "\n",
    "classifier = MultinomialNB()\n",
    "targets = data['class']\n",
    "classifier.fit(counts, targets)"
   ]
  },
  {
   "cell_type": "code",
   "execution_count": null,
   "metadata": {},
   "outputs": [],
   "source": []
  },
  {
   "cell_type": "code",
   "execution_count": 59,
   "metadata": {},
   "outputs": [
    {
     "data": {
      "text/plain": [
       "array(['spam', 'ham'], dtype='<U4')"
      ]
     },
     "execution_count": 59,
     "metadata": {},
     "output_type": "execute_result"
    }
   ],
   "source": [
    "examples = ['Free Viagra now!!!', \"Hi Bob, how about a game of golf tomorrow?\"]\n",
    "example_counts = vectorizer.transform(examples)\n",
    "predictions = classifier.predict(example_counts)\n",
    "predictions"
   ]
  },
  {
   "cell_type": "code",
   "execution_count": 60,
   "metadata": {},
   "outputs": [
    {
     "data": {
      "text/plain": [
       "array(['spam', 'ham'], dtype='<U4')"
      ]
     },
     "execution_count": 60,
     "metadata": {},
     "output_type": "execute_result"
    }
   ],
   "source": [
    "examples = ['Free Absolutly Free','hey its urgent to inform you ']\n",
    "example_counts = vectorizer.transform(examples)\n",
    "predictions = classifier.predict(example_counts)\n",
    "predictions"
   ]
  },
  {
   "cell_type": "code",
   "execution_count": 61,
   "metadata": {},
   "outputs": [
    {
     "data": {
      "text/plain": [
       "array(['ham', 'ham', 'ham'], dtype='<U4')"
      ]
     },
     "execution_count": 61,
     "metadata": {},
     "output_type": "execute_result"
    }
   ],
   "source": [
    "e = [ 'can we go for dinner today', 'free join free PayBox Get rs100 back','try our P&G products free of cose']\n",
    "ex = vectorizer.transform(e)\n",
    "p = classifier.predict(ex)\n",
    "p"
   ]
  },
  {
   "cell_type": "code",
   "execution_count": null,
   "metadata": {},
   "outputs": [],
   "source": []
  }
 ],
 "metadata": {
  "kernelspec": {
   "display_name": "Python 3",
   "language": "python",
   "name": "python3"
  },
  "language_info": {
   "codemirror_mode": {
    "name": "ipython",
    "version": 3
   },
   "file_extension": ".py",
   "mimetype": "text/x-python",
   "name": "python",
   "nbconvert_exporter": "python",
   "pygments_lexer": "ipython3",
   "version": "3.7.3"
  }
 },
 "nbformat": 4,
 "nbformat_minor": 2
}
