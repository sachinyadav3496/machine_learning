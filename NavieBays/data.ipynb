{
 "cells": [
  {
   "cell_type": "code",
   "execution_count": 1,
   "metadata": {},
   "outputs": [],
   "source": [
    "import os"
   ]
  },
  {
   "cell_type": "code",
   "execution_count": 2,
   "metadata": {},
   "outputs": [
    {
     "data": {
      "text/plain": [
       "'C:\\\\Users\\\\hp\\\\Desktop\\\\MachineLearning\\\\Spam_Classifier'"
      ]
     },
     "execution_count": 2,
     "metadata": {},
     "output_type": "execute_result"
    }
   ],
   "source": [
    "os.path.abspath(\"./\")"
   ]
  },
  {
   "cell_type": "code",
   "execution_count": 3,
   "metadata": {},
   "outputs": [
    {
     "data": {
      "text/plain": [
       "'C:\\\\users\\\\data\\\\yahoo\\\\something'"
      ]
     },
     "execution_count": 3,
     "metadata": {},
     "output_type": "execute_result"
    }
   ],
   "source": [
    "os.path.join(\"C:\\\\users\\\\data\",\"yahoo\\\\something\")"
   ]
  },
  {
   "cell_type": "code",
   "execution_count": 9,
   "metadata": {},
   "outputs": [],
   "source": [
    "os.mkdir(\"c:\\\\users\\\\hp\\\\Desktop\\\\hello.py\")"
   ]
  },
  {
   "cell_type": "code",
   "execution_count": 10,
   "metadata": {},
   "outputs": [
    {
     "data": {
      "text/plain": [
       "True"
      ]
     },
     "execution_count": 10,
     "metadata": {},
     "output_type": "execute_result"
    }
   ],
   "source": [
    "os.path.exists(\"c:\\\\users\\\\hp\\\\Desktop\\\\hello.py\")"
   ]
  },
  {
   "cell_type": "code",
   "execution_count": 11,
   "metadata": {},
   "outputs": [
    {
     "data": {
      "text/plain": [
       "True"
      ]
     },
     "execution_count": 11,
     "metadata": {},
     "output_type": "execute_result"
    }
   ],
   "source": [
    "os.path.isdir(\"c:\\\\users\\\\hp\\\\Desktop\\\\hello.py\")"
   ]
  },
  {
   "cell_type": "code",
   "execution_count": 12,
   "metadata": {},
   "outputs": [
    {
     "data": {
      "text/plain": [
       "False"
      ]
     },
     "execution_count": 12,
     "metadata": {},
     "output_type": "execute_result"
    }
   ],
   "source": [
    "os.path.isfile(\"c:\\\\users\\\\hp\\\\Desktop\\\\hello.py\")"
   ]
  },
  {
   "cell_type": "code",
   "execution_count": 13,
   "metadata": {},
   "outputs": [
    {
     "data": {
      "text/plain": [
       "False"
      ]
     },
     "execution_count": 13,
     "metadata": {},
     "output_type": "execute_result"
    }
   ],
   "source": [
    "os.path.islink(\"c:\\\\users\\\\hp\\\\Desktop\\\\hello.py\")"
   ]
  },
  {
   "cell_type": "code",
   "execution_count": 14,
   "metadata": {},
   "outputs": [
    {
     "data": {
      "text/plain": [
       "['.ipynb_checkpoints',\n",
       " 'alkdjfl',\n",
       " 'data.ipynb',\n",
       " 'emails',\n",
       " 'Spam_my_test.ipynb',\n",
       " 'Spam_Not_Spam_Project.ipynb']"
      ]
     },
     "execution_count": 14,
     "metadata": {},
     "output_type": "execute_result"
    }
   ],
   "source": [
    "os.listdir()"
   ]
  },
  {
   "cell_type": "code",
   "execution_count": 15,
   "metadata": {},
   "outputs": [
    {
     "data": {
      "text/plain": [
       "'C:\\\\Users\\\\hp\\\\Desktop\\\\MachineLearning\\\\Spam_Classifier'"
      ]
     },
     "execution_count": 15,
     "metadata": {},
     "output_type": "execute_result"
    }
   ],
   "source": [
    "os.getcwd()"
   ]
  },
  {
   "cell_type": "code",
   "execution_count": 17,
   "metadata": {},
   "outputs": [
    {
     "data": {
      "text/plain": [
       "['.ipynb_checkpoints',\n",
       " 'alkdjfl',\n",
       " 'data.ipynb',\n",
       " 'emails',\n",
       " 'Spam_my_test.ipynb',\n",
       " 'Spam_Not_Spam_Project.ipynb']"
      ]
     },
     "execution_count": 17,
     "metadata": {},
     "output_type": "execute_result"
    }
   ],
   "source": [
    "os.listdir()"
   ]
  },
  {
   "cell_type": "code",
   "execution_count": 18,
   "metadata": {},
   "outputs": [],
   "source": [
    "files = [ ]\n",
    "folder = []\n",
    "for var in os.listdir():\n",
    "    if os.path.isfile(var):\n",
    "        files.append(var)\n",
    "    else : \n",
    "        folder.append(var)"
   ]
  },
  {
   "cell_type": "code",
   "execution_count": 19,
   "metadata": {},
   "outputs": [
    {
     "data": {
      "text/plain": [
       "['alkdjfl', 'data.ipynb', 'Spam_my_test.ipynb', 'Spam_Not_Spam_Project.ipynb']"
      ]
     },
     "execution_count": 19,
     "metadata": {},
     "output_type": "execute_result"
    }
   ],
   "source": [
    "files"
   ]
  },
  {
   "cell_type": "code",
   "execution_count": 20,
   "metadata": {},
   "outputs": [
    {
     "data": {
      "text/plain": [
       "['.ipynb_checkpoints', 'emails']"
      ]
     },
     "execution_count": 20,
     "metadata": {},
     "output_type": "execute_result"
    }
   ],
   "source": [
    "folder"
   ]
  },
  {
   "cell_type": "code",
   "execution_count": 21,
   "metadata": {},
   "outputs": [
    {
     "data": {
      "text/plain": [
       "['data-checkpoint.ipynb',\n",
       " 'Spam_my_test-checkpoint.ipynb',\n",
       " 'Spam_Not_Spam_Project-checkpoint.ipynb']"
      ]
     },
     "execution_count": 21,
     "metadata": {},
     "output_type": "execute_result"
    }
   ],
   "source": [
    "os.listdir(folder[0])"
   ]
  },
  {
   "cell_type": "code",
   "execution_count": 22,
   "metadata": {},
   "outputs": [],
   "source": [
    "path  = \"C:\\\\Users\\\\hp\\\\Desktop\\\\pyspark\\\\data\""
   ]
  },
  {
   "cell_type": "code",
   "execution_count": 24,
   "metadata": {},
   "outputs": [
    {
     "name": "stdout",
     "output_type": "stream",
     "text": [
      "('C:\\\\Users\\\\hp\\\\Desktop\\\\pyspark\\\\data', ['pyspark'], ['avai.txt', 'BASHRC.txt', 'bye.txt', 'data.log', 'data_gen.py', 'error.txt', 'gen_new_data.py', 'hello.txt', 'HISTORY_.txt', 'HISTORY_2019-07-09.txt', 'map.py', 'map_avg.py', 'my.conf', 'mytweet.conf', 'newdata', 'reduce.py', 'red_sal.py', 'sal.txt', 'sal1.txt', 'sqoop_job.sh', 'student.txt', 'student_option.txt', 'Untitled.ipynb', 'users.txt'])\n",
      "('C:\\\\Users\\\\hp\\\\Desktop\\\\pyspark\\\\data\\\\pyspark', [], ['First Twitter App.ipynb', 'Spark_installation.txt', 'tweet.json', 'TweetRead.ipynb', 'TweetRead.py', 'tweets.json', 'twitter.ipynb', 'Twitter_Data_Fetch.ipynb'])\n"
     ]
    }
   ],
   "source": [
    "for var in os.walk(path) : \n",
    "    print(var)"
   ]
  },
  {
   "cell_type": "code",
   "execution_count": null,
   "metadata": {},
   "outputs": [],
   "source": []
  }
 ],
 "metadata": {
  "kernelspec": {
   "display_name": "Python 3",
   "language": "python",
   "name": "python3"
  },
  "language_info": {
   "codemirror_mode": {
    "name": "ipython",
    "version": 3
   },
   "file_extension": ".py",
   "mimetype": "text/x-python",
   "name": "python",
   "nbconvert_exporter": "python",
   "pygments_lexer": "ipython3",
   "version": "3.7.3"
  }
 },
 "nbformat": 4,
 "nbformat_minor": 2
}
