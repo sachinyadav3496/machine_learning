{
 "cells": [
  {
   "cell_type": "markdown",
   "metadata": {},
   "source": [
    "## Linear Regression "
   ]
  },
  {
   "cell_type": "markdown",
   "metadata": {},
   "source": [
    "$$ \\hat {y} = \\beta_0 + \\beta_1 X $$"
   ]
  },
  {
   "cell_type": "code",
   "execution_count": 6,
   "metadata": {},
   "outputs": [],
   "source": [
    "import numpy as np \n",
    "import pandas as pd\n",
    "import seaborn as sns\n",
    "import matplotlib.pyplot as plt\n",
    "%matplotlib inline \n",
    "plt.style.use('seaborn-whitegrid')\n",
    "plt.rcParams['figure.figsize'] = (10,4)"
   ]
  },
  {
   "cell_type": "code",
   "execution_count": 7,
   "metadata": {},
   "outputs": [],
   "source": [
    "##let's take height in cms\n",
    "height = np.random.normal(130.0,20,1000)"
   ]
  },
  {
   "cell_type": "code",
   "execution_count": 9,
   "metadata": {},
   "outputs": [
    {
     "data": {
      "image/png": "[encoded data removed]",
      "text/plain": [
       "<Figure size 720x288 with 1 Axes>"
      ]
     },
     "metadata": {},
     "output_type": "display_data"
    }
   ],
   "source": [
    "plt.hist(height,bins=30,edgecolor='k')\n",
    "plt.show()"
   ]
  },
  {
   "cell_type": "code",
   "execution_count": 21,
   "metadata": {},
   "outputs": [],
   "source": [
    "# y = mx + c \n",
    "weight = np.random.randn(1000) + 0.4*height + np.random.randn(1000)*3"
   ]
  },
  {
   "cell_type": "code",
   "execution_count": 22,
   "metadata": {},
   "outputs": [
    {
     "data": {
      "image/png": "[encoded data removed]",
      "text/plain": [
       "<Figure size 720x288 with 1 Axes>"
      ]
     },
     "metadata": {},
     "output_type": "display_data"
    }
   ],
   "source": [
    "plt.hist(weight,bins=30,edgecolor='k')\n",
    "plt.show()"
   ]
  },
  {
   "cell_type": "code",
   "execution_count": 23,
   "metadata": {},
   "outputs": [
    {
     "data": {
      "image/png": "[encoded data removed]",
      "text/plain": [
       "<Figure size 720x288 with 1 Axes>"
      ]
     },
     "metadata": {},
     "output_type": "display_data"
    }
   ],
   "source": [
    "plt.scatter(height,weight)\n",
    "plt.show()"
   ]
  },
  {
   "cell_type": "markdown",
   "metadata": {},
   "source": [
    "### Data Quantitive \n",
    "### target should be linearly dependent on features"
   ]
  },
  {
   "cell_type": "markdown",
   "metadata": {},
   "source": [
    "$$ \\hat {y} = \\beta_0 + \\beta_1 X $$"
   ]
  },
  {
   "cell_type": "code",
   "execution_count": 25,
   "metadata": {},
   "outputs": [],
   "source": [
    "from sklearn.model_selection import train_test_split\n",
    "from sklearn.linear_model import LinearRegression\n",
    "from sklearn.metrics import mean_squared_error, r2_score"
   ]
  },
  {
   "cell_type": "code",
   "execution_count": 30,
   "metadata": {},
   "outputs": [
    {
     "data": {
      "text/plain": [
       "array([156.76005218, 167.12027269, 128.05401377, 134.16647146,\n",
       "       122.36633943])"
      ]
     },
     "execution_count": 30,
     "metadata": {},
     "output_type": "execute_result"
    }
   ],
   "source": [
    "height[:5]"
   ]
  },
  {
   "cell_type": "code",
   "execution_count": 35,
   "metadata": {},
   "outputs": [],
   "source": [
    "#np.random.randint(1,10,100).reshape(-1,1)"
   ]
  },
  {
   "cell_type": "code",
   "execution_count": 26,
   "metadata": {},
   "outputs": [
    {
     "data": {
      "text/plain": [
       "numpy.ndarray"
      ]
     },
     "execution_count": 26,
     "metadata": {},
     "output_type": "execute_result"
    }
   ],
   "source": [
    "type(height)"
   ]
  },
  {
   "cell_type": "code",
   "execution_count": 27,
   "metadata": {},
   "outputs": [
    {
     "data": {
      "text/plain": [
       "1"
      ]
     },
     "execution_count": 27,
     "metadata": {},
     "output_type": "execute_result"
    }
   ],
   "source": [
    "height.ndim"
   ]
  },
  {
   "cell_type": "code",
   "execution_count": 28,
   "metadata": {},
   "outputs": [
    {
     "data": {
      "text/plain": [
       "(1000,)"
      ]
     },
     "execution_count": 28,
     "metadata": {},
     "output_type": "execute_result"
    }
   ],
   "source": [
    "height.shape"
   ]
  },
  {
   "cell_type": "code",
   "execution_count": 36,
   "metadata": {},
   "outputs": [
    {
     "data": {
      "text/plain": [
       "(1000, 1)"
      ]
     },
     "execution_count": 36,
     "metadata": {},
     "output_type": "execute_result"
    }
   ],
   "source": [
    "height = height.reshape(-1,1)\n",
    "height.shape"
   ]
  },
  {
   "cell_type": "code",
   "execution_count": 50,
   "metadata": {},
   "outputs": [
    {
     "data": {
      "text/plain": [
       "2"
      ]
     },
     "execution_count": 50,
     "metadata": {},
     "output_type": "execute_result"
    }
   ],
   "source": [
    "height.ndim"
   ]
  },
  {
   "cell_type": "code",
   "execution_count": 51,
   "metadata": {},
   "outputs": [
    {
     "data": {
      "text/plain": [
       "array([[156.76005218],\n",
       "       [167.12027269],\n",
       "       [128.05401377],\n",
       "       [134.16647146],\n",
       "       [122.36633943]])"
      ]
     },
     "execution_count": 51,
     "metadata": {},
     "output_type": "execute_result"
    }
   ],
   "source": [
    "height[:5]"
   ]
  },
  {
   "cell_type": "code",
   "execution_count": 52,
   "metadata": {},
   "outputs": [],
   "source": [
    "X_train,X_test,y_train,y_test = train_test_split(height,weight,test_size=.30,random_state=41)"
   ]
  },
  {
   "cell_type": "code",
   "execution_count": 53,
   "metadata": {},
   "outputs": [
    {
     "data": {
      "text/plain": [
       "2"
      ]
     },
     "execution_count": 53,
     "metadata": {},
     "output_type": "execute_result"
    }
   ],
   "source": [
    "X_train.ndim"
   ]
  },
  {
   "cell_type": "code",
   "execution_count": 54,
   "metadata": {},
   "outputs": [
    {
     "data": {
      "text/plain": [
       "700"
      ]
     },
     "execution_count": 54,
     "metadata": {},
     "output_type": "execute_result"
    }
   ],
   "source": [
    "X_train.size"
   ]
  },
  {
   "cell_type": "code",
   "execution_count": 55,
   "metadata": {},
   "outputs": [
    {
     "data": {
      "text/plain": [
       "array([[110.16908085],\n",
       "       [ 99.8267107 ],\n",
       "       [135.22421737],\n",
       "       [124.8651728 ],\n",
       "       [154.61529331]])"
      ]
     },
     "execution_count": 55,
     "metadata": {},
     "output_type": "execute_result"
    }
   ],
   "source": [
    "X_train[:5]"
   ]
  },
  {
   "cell_type": "code",
   "execution_count": 57,
   "metadata": {},
   "outputs": [
    {
     "data": {
      "text/plain": [
       "300"
      ]
     },
     "execution_count": 57,
     "metadata": {},
     "output_type": "execute_result"
    }
   ],
   "source": [
    "X_test.size"
   ]
  },
  {
   "cell_type": "code",
   "execution_count": 58,
   "metadata": {},
   "outputs": [
    {
     "data": {
      "text/plain": [
       "array([[ 86.89630174],\n",
       "       [133.22352051],\n",
       "       [140.62284059],\n",
       "       [149.31347853],\n",
       "       [115.93547521]])"
      ]
     },
     "execution_count": 58,
     "metadata": {},
     "output_type": "execute_result"
    }
   ],
   "source": [
    "X_test[:5]"
   ]
  },
  {
   "cell_type": "code",
   "execution_count": 59,
   "metadata": {},
   "outputs": [
    {
     "data": {
      "image/png": "[encoded data removed]",
      "text/plain": [
       "<Figure size 720x288 with 1 Axes>"
      ]
     },
     "metadata": {},
     "output_type": "display_data"
    }
   ],
   "source": [
    "plt.scatter(X_test,y_test)\n",
    "plt.show()"
   ]
  },
  {
   "cell_type": "code",
   "execution_count": 60,
   "metadata": {},
   "outputs": [
    {
     "data": {
      "image/png": "[encoded data removed]",
      "text/plain": [
       "<Figure size 720x288 with 1 Axes>"
      ]
     },
     "metadata": {},
     "output_type": "display_data"
    }
   ],
   "source": [
    "plt.scatter(X_train,y_train)\n",
    "plt.show()"
   ]
  },
  {
   "cell_type": "code",
   "execution_count": 62,
   "metadata": {},
   "outputs": [],
   "source": [
    "model = LinearRegression()\n",
    "# machine learning algo "
   ]
  },
  {
   "cell_type": "code",
   "execution_count": 63,
   "metadata": {},
   "outputs": [
    {
     "data": {
      "text/plain": [
       "LinearRegression(copy_X=True, fit_intercept=True, n_jobs=None,\n",
       "         normalize=False)"
      ]
     },
     "execution_count": 63,
     "metadata": {},
     "output_type": "execute_result"
    }
   ],
   "source": [
    "# Training \n",
    "\n",
    "model.fit(X_train,y_train)"
   ]
  },
  {
   "cell_type": "markdown",
   "metadata": {},
   "source": [
    "$$ \\hat {y} = \\beta_0 + \\beta_1 X $$"
   ]
  },
  {
   "cell_type": "code",
   "execution_count": 65,
   "metadata": {},
   "outputs": [
    {
     "data": {
      "text/plain": [
       "0.7122047288318214"
      ]
     },
     "execution_count": 65,
     "metadata": {},
     "output_type": "execute_result"
    }
   ],
   "source": [
    "# this is your 𝛽0\n",
    "model.intercept_ "
   ]
  },
  {
   "cell_type": "code",
   "execution_count": 67,
   "metadata": {},
   "outputs": [
    {
     "data": {
      "text/plain": [
       "array([0.39376948])"
      ]
     },
     "execution_count": 67,
     "metadata": {},
     "output_type": "execute_result"
    }
   ],
   "source": [
    "# this is your 𝛽1\n",
    "model.coef_"
   ]
  },
  {
   "cell_type": "code",
   "execution_count": 68,
   "metadata": {},
   "outputs": [
    {
     "data": {
      "text/plain": [
       "array([63.71532096])"
      ]
     },
     "execution_count": 68,
     "metadata": {},
     "output_type": "execute_result"
    }
   ],
   "source": [
    "# prediction weight on height 𝑦\n",
    "model.intercept_+ model.coef_*160"
   ]
  },
  {
   "cell_type": "code",
   "execution_count": 70,
   "metadata": {},
   "outputs": [
    {
     "data": {
      "text/plain": [
       "array([63.71532096, 47.9645419 , 51.90223667, 59.77762619, 55.83993143,\n",
       "       53.87108405, 54.26485352])"
      ]
     },
     "execution_count": 70,
     "metadata": {},
     "output_type": "execute_result"
    }
   ],
   "source": [
    "model.predict(np.array([160,120,130,150,140,135,136]).reshape(-1,1))"
   ]
  },
  {
   "cell_type": "code",
   "execution_count": 72,
   "metadata": {},
   "outputs": [],
   "source": [
    "### Evaluating \n",
    "\n",
    "y_pred = model.predict(X_test)"
   ]
  },
  {
   "cell_type": "code",
   "execution_count": 73,
   "metadata": {},
   "outputs": [
    {
     "data": {
      "text/plain": [
       "array([[ 86.89630174],\n",
       "       [133.22352051],\n",
       "       [140.62284059],\n",
       "       [149.31347853],\n",
       "       [115.93547521]])"
      ]
     },
     "execution_count": 73,
     "metadata": {},
     "output_type": "execute_result"
    }
   ],
   "source": [
    "X_test[:5]"
   ]
  },
  {
   "cell_type": "code",
   "execution_count": 74,
   "metadata": {},
   "outputs": [
    {
     "data": {
      "text/plain": [
       "array([36.3010793 , 54.04771812, 56.53045328, 60.46433383, 48.10989554])"
      ]
     },
     "execution_count": 74,
     "metadata": {},
     "output_type": "execute_result"
    }
   ],
   "source": [
    "y_test[:5]"
   ]
  },
  {
   "cell_type": "code",
   "execution_count": 75,
   "metadata": {},
   "outputs": [
    {
     "data": {
      "text/plain": [
       "array([34.92931597, 53.17156065, 56.08518704, 59.50729499, 46.3640561 ])"
      ]
     },
     "execution_count": 75,
     "metadata": {},
     "output_type": "execute_result"
    }
   ],
   "source": [
    "y_pred[:5]"
   ]
  },
  {
   "cell_type": "code",
   "execution_count": 76,
   "metadata": {},
   "outputs": [
    {
     "data": {
      "text/plain": [
       "10.281747644057429"
      ]
     },
     "execution_count": 76,
     "metadata": {},
     "output_type": "execute_result"
    }
   ],
   "source": [
    "mean_squared_error(y_test,y_pred)"
   ]
  },
  {
   "cell_type": "code",
   "execution_count": 77,
   "metadata": {},
   "outputs": [
    {
     "data": {
      "text/plain": [
       "0.8556391879812768"
      ]
     },
     "execution_count": 77,
     "metadata": {},
     "output_type": "execute_result"
    }
   ],
   "source": [
    "r2_score(y_test,y_pred)"
   ]
  },
  {
   "cell_type": "code",
   "execution_count": 79,
   "metadata": {},
   "outputs": [
    {
     "data": {
      "image/png": "[encoded data removed]",
      "text/plain": [
       "<Figure size 720x288 with 1 Axes>"
      ]
     },
     "metadata": {},
     "output_type": "display_data"
    }
   ],
   "source": [
    "plt.scatter(X_test,y_test,label=\"Original Data\",c='r')\n",
    "plt.scatter(X_test,y_pred,label=\"Predicted Data\",c='g')\n",
    "plt.legend()\n",
    "plt.show()"
   ]
  },
  {
   "cell_type": "markdown",
   "metadata": {},
   "source": [
    "## Multiple linear regression "
   ]
  },
  {
   "cell_type": "code",
   "execution_count": 83,
   "metadata": {},
   "outputs": [],
   "source": [
    "#ls \"ISLR_DATASET/\"\""
   ]
  },
  {
   "cell_type": "code",
   "execution_count": 86,
   "metadata": {},
   "outputs": [],
   "source": [
    "df = pd.read_csv(\"ISLR_DATASET/Advertising.csv\",index_col=0)"
   ]
  },
  {
   "cell_type": "code",
   "execution_count": 87,
   "metadata": {},
   "outputs": [
    {
     "data": {
      "text/html": [
       "<div>\n",
       "<style scoped>\n",
       "    .dataframe tbody tr th:only-of-type {\n",
       "        vertical-align: middle;\n",
       "    }\n",
       "\n",
       "    .dataframe tbody tr th {\n",
       "        vertical-align: top;\n",
       "    }\n",
       "\n",
       "    .dataframe thead th {\n",
       "        text-align: right;\n",
       "    }\n",
       "</style>\n",
       "<table border=\"1\" class=\"dataframe\">\n",
       "  <thead>\n",
       "    <tr style=\"text-align: right;\">\n",
       "      <th></th>\n",
       "      <th>TV</th>\n",
       "      <th>Radio</th>\n",
       "      <th>Newspaper</th>\n",
       "      <th>Sales</th>\n",
       "    </tr>\n",
       "  </thead>\n",
       "  <tbody>\n",
       "    <tr>\n",
       "      <th>1</th>\n",
       "      <td>230.1</td>\n",
       "      <td>37.8</td>\n",
       "      <td>69.2</td>\n",
       "      <td>22.1</td>\n",
       "    </tr>\n",
       "    <tr>\n",
       "      <th>2</th>\n",
       "      <td>44.5</td>\n",
       "      <td>39.3</td>\n",
       "      <td>45.1</td>\n",
       "      <td>10.4</td>\n",
       "    </tr>\n",
       "    <tr>\n",
       "      <th>3</th>\n",
       "      <td>17.2</td>\n",
       "      <td>45.9</td>\n",
       "      <td>69.3</td>\n",
       "      <td>9.3</td>\n",
       "    </tr>\n",
       "    <tr>\n",
       "      <th>4</th>\n",
       "      <td>151.5</td>\n",
       "      <td>41.3</td>\n",
       "      <td>58.5</td>\n",
       "      <td>18.5</td>\n",
       "    </tr>\n",
       "    <tr>\n",
       "      <th>5</th>\n",
       "      <td>180.8</td>\n",
       "      <td>10.8</td>\n",
       "      <td>58.4</td>\n",
       "      <td>12.9</td>\n",
       "    </tr>\n",
       "  </tbody>\n",
       "</table>\n",
       "</div>"
      ],
      "text/plain": [
       "      TV  Radio  Newspaper  Sales\n",
       "1  230.1   37.8       69.2   22.1\n",
       "2   44.5   39.3       45.1   10.4\n",
       "3   17.2   45.9       69.3    9.3\n",
       "4  151.5   41.3       58.5   18.5\n",
       "5  180.8   10.8       58.4   12.9"
      ]
     },
     "execution_count": 87,
     "metadata": {},
     "output_type": "execute_result"
    }
   ],
   "source": [
    "df.head()"
   ]
  },
  {
   "cell_type": "code",
   "execution_count": 88,
   "metadata": {},
   "outputs": [
    {
     "data": {
      "image/png": "[encoded data removed]",
      "text/plain": [
       "<Figure size 720x720 with 20 Axes>"
      ]
     },
     "metadata": {},
     "output_type": "display_data"
    }
   ],
   "source": [
    "sns.pairplot(df)\n",
    "plt.show()"
   ]
  },
  {
   "cell_type": "markdown",
   "metadata": {},
   "source": [
    "$$ \\hat {Sales} = \\beta_0 + \\beta_1 TV + \\beta_2 Radio $$"
   ]
  },
  {
   "cell_type": "code",
   "execution_count": 89,
   "metadata": {},
   "outputs": [
    {
     "data": {
      "text/plain": [
       "Index(['TV', 'Radio', 'Newspaper', 'Sales'], dtype='object')"
      ]
     },
     "execution_count": 89,
     "metadata": {},
     "output_type": "execute_result"
    }
   ],
   "source": [
    "df.columns"
   ]
  },
  {
   "cell_type": "code",
   "execution_count": 90,
   "metadata": {},
   "outputs": [],
   "source": [
    "features = df[['TV','Radio']]\n",
    "target = df['Sales']"
   ]
  },
  {
   "cell_type": "code",
   "execution_count": 91,
   "metadata": {},
   "outputs": [
    {
     "data": {
      "text/html": [
       "<div>\n",
       "<style scoped>\n",
       "    .dataframe tbody tr th:only-of-type {\n",
       "        vertical-align: middle;\n",
       "    }\n",
       "\n",
       "    .dataframe tbody tr th {\n",
       "        vertical-align: top;\n",
       "    }\n",
       "\n",
       "    .dataframe thead th {\n",
       "        text-align: right;\n",
       "    }\n",
       "</style>\n",
       "<table border=\"1\" class=\"dataframe\">\n",
       "  <thead>\n",
       "    <tr style=\"text-align: right;\">\n",
       "      <th></th>\n",
       "      <th>TV</th>\n",
       "      <th>Radio</th>\n",
       "    </tr>\n",
       "  </thead>\n",
       "  <tbody>\n",
       "    <tr>\n",
       "      <th>1</th>\n",
       "      <td>230.1</td>\n",
       "      <td>37.8</td>\n",
       "    </tr>\n",
       "    <tr>\n",
       "      <th>2</th>\n",
       "      <td>44.5</td>\n",
       "      <td>39.3</td>\n",
       "    </tr>\n",
       "    <tr>\n",
       "      <th>3</th>\n",
       "      <td>17.2</td>\n",
       "      <td>45.9</td>\n",
       "    </tr>\n",
       "    <tr>\n",
       "      <th>4</th>\n",
       "      <td>151.5</td>\n",
       "      <td>41.3</td>\n",
       "    </tr>\n",
       "    <tr>\n",
       "      <th>5</th>\n",
       "      <td>180.8</td>\n",
       "      <td>10.8</td>\n",
       "    </tr>\n",
       "  </tbody>\n",
       "</table>\n",
       "</div>"
      ],
      "text/plain": [
       "      TV  Radio\n",
       "1  230.1   37.8\n",
       "2   44.5   39.3\n",
       "3   17.2   45.9\n",
       "4  151.5   41.3\n",
       "5  180.8   10.8"
      ]
     },
     "execution_count": 91,
     "metadata": {},
     "output_type": "execute_result"
    }
   ],
   "source": [
    "features.head() # tv, and radio "
   ]
  },
  {
   "cell_type": "code",
   "execution_count": 92,
   "metadata": {},
   "outputs": [
    {
     "data": {
      "text/plain": [
       "1    22.1\n",
       "2    10.4\n",
       "3     9.3\n",
       "4    18.5\n",
       "5    12.9\n",
       "Name: Sales, dtype: float64"
      ]
     },
     "execution_count": 92,
     "metadata": {},
     "output_type": "execute_result"
    }
   ],
   "source": [
    "target.head() # sales "
   ]
  },
  {
   "cell_type": "code",
   "execution_count": 93,
   "metadata": {},
   "outputs": [],
   "source": [
    "X_train,X_test,y_train,y_test = train_test_split(features,target,test_size=0.30,random_state=42)"
   ]
  },
  {
   "cell_type": "code",
   "execution_count": 94,
   "metadata": {},
   "outputs": [
    {
     "data": {
      "text/html": [
       "<div>\n",
       "<style scoped>\n",
       "    .dataframe tbody tr th:only-of-type {\n",
       "        vertical-align: middle;\n",
       "    }\n",
       "\n",
       "    .dataframe tbody tr th {\n",
       "        vertical-align: top;\n",
       "    }\n",
       "\n",
       "    .dataframe thead th {\n",
       "        text-align: right;\n",
       "    }\n",
       "</style>\n",
       "<table border=\"1\" class=\"dataframe\">\n",
       "  <thead>\n",
       "    <tr style=\"text-align: right;\">\n",
       "      <th></th>\n",
       "      <th>TV</th>\n",
       "      <th>Radio</th>\n",
       "    </tr>\n",
       "  </thead>\n",
       "  <tbody>\n",
       "    <tr>\n",
       "      <th>170</th>\n",
       "      <td>284.3</td>\n",
       "      <td>10.6</td>\n",
       "    </tr>\n",
       "    <tr>\n",
       "      <th>98</th>\n",
       "      <td>184.9</td>\n",
       "      <td>21.0</td>\n",
       "    </tr>\n",
       "    <tr>\n",
       "      <th>32</th>\n",
       "      <td>112.9</td>\n",
       "      <td>17.4</td>\n",
       "    </tr>\n",
       "    <tr>\n",
       "      <th>13</th>\n",
       "      <td>23.8</td>\n",
       "      <td>35.1</td>\n",
       "    </tr>\n",
       "    <tr>\n",
       "      <th>36</th>\n",
       "      <td>290.7</td>\n",
       "      <td>4.1</td>\n",
       "    </tr>\n",
       "  </tbody>\n",
       "</table>\n",
       "</div>"
      ],
      "text/plain": [
       "        TV  Radio\n",
       "170  284.3   10.6\n",
       "98   184.9   21.0\n",
       "32   112.9   17.4\n",
       "13    23.8   35.1\n",
       "36   290.7    4.1"
      ]
     },
     "execution_count": 94,
     "metadata": {},
     "output_type": "execute_result"
    }
   ],
   "source": [
    "X_train.head()"
   ]
  },
  {
   "cell_type": "code",
   "execution_count": 95,
   "metadata": {},
   "outputs": [
    {
     "data": {
      "text/html": [
       "<div>\n",
       "<style scoped>\n",
       "    .dataframe tbody tr th:only-of-type {\n",
       "        vertical-align: middle;\n",
       "    }\n",
       "\n",
       "    .dataframe tbody tr th {\n",
       "        vertical-align: top;\n",
       "    }\n",
       "\n",
       "    .dataframe thead th {\n",
       "        text-align: right;\n",
       "    }\n",
       "</style>\n",
       "<table border=\"1\" class=\"dataframe\">\n",
       "  <thead>\n",
       "    <tr style=\"text-align: right;\">\n",
       "      <th></th>\n",
       "      <th>TV</th>\n",
       "      <th>Radio</th>\n",
       "    </tr>\n",
       "  </thead>\n",
       "  <tbody>\n",
       "    <tr>\n",
       "      <th>96</th>\n",
       "      <td>163.3</td>\n",
       "      <td>31.6</td>\n",
       "    </tr>\n",
       "    <tr>\n",
       "      <th>16</th>\n",
       "      <td>195.4</td>\n",
       "      <td>47.7</td>\n",
       "    </tr>\n",
       "    <tr>\n",
       "      <th>31</th>\n",
       "      <td>292.9</td>\n",
       "      <td>28.3</td>\n",
       "    </tr>\n",
       "    <tr>\n",
       "      <th>159</th>\n",
       "      <td>11.7</td>\n",
       "      <td>36.9</td>\n",
       "    </tr>\n",
       "    <tr>\n",
       "      <th>129</th>\n",
       "      <td>220.3</td>\n",
       "      <td>49.0</td>\n",
       "    </tr>\n",
       "  </tbody>\n",
       "</table>\n",
       "</div>"
      ],
      "text/plain": [
       "        TV  Radio\n",
       "96   163.3   31.6\n",
       "16   195.4   47.7\n",
       "31   292.9   28.3\n",
       "159   11.7   36.9\n",
       "129  220.3   49.0"
      ]
     },
     "execution_count": 95,
     "metadata": {},
     "output_type": "execute_result"
    }
   ],
   "source": [
    "X_test.head()"
   ]
  },
  {
   "cell_type": "code",
   "execution_count": 96,
   "metadata": {},
   "outputs": [],
   "source": [
    "from mpl_toolkits.mplot3d import Axes3D"
   ]
  },
  {
   "cell_type": "code",
   "execution_count": 101,
   "metadata": {},
   "outputs": [
    {
     "data": {
      "application/javascript": [
       "/* Put everything inside the global mpl namespace */\n",
       "window.mpl = {};\n",
       "\n",
       "\n",
       "mpl.get_websocket_type = function() {\n",
       "    if (typeof(WebSocket) !== 'undefined') {\n",
       "        return WebSocket;\n",
       "    } else if (typeof(MozWebSocket) !== 'undefined') {\n",
       "        return MozWebSocket;\n",
       "    } else {\n",
       "        alert('Your browser does not have WebSocket support.' +\n",
       "              'Please try Chrome, Safari or Firefox ≥ 6. ' +\n",
       "              'Firefox 4 and 5 are also supported but you ' +\n",
       "              'have to enable WebSockets in about:config.');\n",
       "    };\n",
       "}\n",
       "\n",
       "mpl.figure = function(figure_id, websocket, ondownload, parent_element) {\n",
       "    this.id = figure_id;\n",
       "\n",
       "    this.ws = websocket;\n",
       "\n",
       "    this.supports_binary = (this.ws.binaryType != undefined);\n",
       "\n",
       "    if (!this.supports_binary) {\n",
       "        var warnings = document.getElementById(\"mpl-warnings\");\n",
       "        if (warnings) {\n",
       "            warnings.style.display = 'block';\n",
       "            warnings.textContent = (\n",
       "                \"This browser does not support binary websocket messages. \" +\n",
       "                    \"Performance may be slow.\");\n",
       "        }\n",
       "    }\n",
       "\n",
       "    this.imageObj = new Image();\n",
       "\n",
       "    this.context = undefined;\n",
       "    this.message = undefined;\n",
       "    this.canvas = undefined;\n",
       "    this.rubberband_canvas = undefined;\n",
       "    this.rubberband_context = undefined;\n",
       "    this.format_dropdown = undefined;\n",
       "\n",
       "    this.image_mode = 'full';\n",
       "\n",
       "    this.root = $('<div/>');\n",
       "    this._root_extra_style(this.root)\n",
       "    this.root.attr('style', 'display: inline-block');\n",
       "\n",
       "    $(parent_element).append(this.root);\n",
       "\n",
       "    this._init_header(this);\n",
       "    this._init_canvas(this);\n",
       "    this._init_toolbar(this);\n",
       "\n",
       "    var fig = this;\n",
       "\n",
       "    this.waiting = false;\n",
       "\n",
       "    this.ws.onopen =  function () {\n",
       "            fig.send_message(\"supports_binary\", {value: fig.supports_binary});\n",
       "            fig.send_message(\"send_image_mode\", {});\n",
       "            if (mpl.ratio != 1) {\n",
       "                fig.send_message(\"set_dpi_ratio\", {'dpi_ratio': mpl.ratio});\n",
       "            }\n",
       "            fig.send_message(\"refresh\", {});\n",
       "        }\n",
       "\n",
       "    this.imageObj.onload = function() {\n",
       "            if (fig.image_mode == 'full') {\n",
       "                // Full images could contain transparency (where diff images\n",
       "                // almost always do), so we need to clear the canvas so that\n",
       "                // there is no ghosting.\n",
       "                fig.context.clearRect(0, 0, fig.canvas.width, fig.canvas.height);\n",
       "            }\n",
       "            fig.context.drawImage(fig.imageObj, 0, 0);\n",
       "        };\n",
       "\n",
       "    this.imageObj.onunload = function() {\n",
       "        fig.ws.close();\n",
       "    }\n",
       "\n",
       "    this.ws.onmessage = this._make_on_message_function(this);\n",
       "\n",
       "    this.ondownload = ondownload;\n",
       "}\n",
       "\n",
       "mpl.figure.prototype._init_header = function() {\n",
       "    var titlebar = $(\n",
       "        '<div class=\"ui-dialog-titlebar ui-widget-header ui-corner-all ' +\n",
       "        'ui-helper-clearfix\"/>');\n",
       "    var titletext = $(\n",
       "        '<div class=\"ui-dialog-title\" style=\"width: 100%; ' +\n",
       "        'text-align: center; padding: 3px;\"/>');\n",
       "    titlebar.append(titletext)\n",
       "    this.root.append(titlebar);\n",
       "    this.header = titletext[0];\n",
       "}\n",
       "\n",
       "\n",
       "\n",
       "mpl.figure.prototype._canvas_extra_style = function(canvas_div) {\n",
       "\n",
       "}\n",
       "\n",
       "\n",
       "mpl.figure.prototype._root_extra_style = function(canvas_div) {\n",
       "\n",
       "}\n",
       "\n",
       "mpl.figure.prototype._init_canvas = function() {\n",
       "    var fig = this;\n",
       "\n",
       "    var canvas_div = $('<div/>');\n",
       "\n",
       "    canvas_div.attr('style', 'position: relative; clear: both; outline: 0');\n",
       "\n",
       "    function canvas_keyboard_event(event) {\n",
       "        return fig.key_event(event, event['data']);\n",
       "    }\n",
       "\n",
       "    canvas_div.keydown('key_press', canvas_keyboard_event);\n",
       "    canvas_div.keyup('key_release', canvas_keyboard_event);\n",
       "    this.canvas_div = canvas_div\n",
       "    this._canvas_extra_style(canvas_div)\n",
       "    this.root.append(canvas_div);\n",
       "\n",
       "    var canvas = $('<canvas/>');\n",
       "    canvas.addClass('mpl-canvas');\n",
       "    canvas.attr('style', \"left: 0; top: 0; z-index: 0; outline: 0\")\n",
       "\n",
       "    this.canvas = canvas[0];\n",
       "    this.context = canvas[0].getContext(\"2d\");\n",
       "\n",
       "    var backingStore = this.context.backingStorePixelRatio ||\n",
       "\tthis.context.webkitBackingStorePixelRatio ||\n",
       "\tthis.context.mozBackingStorePixelRatio ||\n",
       "\tthis.context.msBackingStorePixelRatio ||\n",
       "\tthis.context.oBackingStorePixelRatio ||\n",
       "\tthis.context.backingStorePixelRatio || 1;\n",
       "\n",
       "    mpl.ratio = (window.devicePixelRatio || 1) / backingStore;\n",
       "\n",
       "    var rubberband = $('<canvas/>');\n",
       "    rubberband.attr('style', \"position: absolute; left: 0; top: 0; z-index: 1;\")\n",
       "\n",
       "    var pass_mouse_events = true;\n",
       "\n",
       "    canvas_div.resizable({\n",
       "        start: function(event, ui) {\n",
       "            pass_mouse_events = false;\n",
       "        },\n",
       "        resize: function(event, ui) {\n",
       "            fig.request_resize(ui.size.width, ui.size.height);\n",
       "        },\n",
       "        stop: function(event, ui) {\n",
       "            pass_mouse_events = true;\n",
       "            fig.request_resize(ui.size.width, ui.size.height);\n",
       "        },\n",
       "    });\n",
       "\n",
       "    function mouse_event_fn(event) {\n",
       "        if (pass_mouse_events)\n",
       "            return fig.mouse_event(event, event['data']);\n",
       "    }\n",
       "\n",
       "    rubberband.mousedown('button_press', mouse_event_fn);\n",
       "    rubberband.mouseup('button_release', mouse_event_fn);\n",
       "    // Throttle sequential mouse events to 1 every 20ms.\n",
       "    rubberband.mousemove('motion_notify', mouse_event_fn);\n",
       "\n",
       "    rubberband.mouseenter('figure_enter', mouse_event_fn);\n",
       "    rubberband.mouseleave('figure_leave', mouse_event_fn);\n",
       "\n",
       "    canvas_div.on(\"wheel\", function (event) {\n",
       "        event = event.originalEvent;\n",
       "        event['data'] = 'scroll'\n",
       "        if (event.deltaY < 0) {\n",
       "            event.step = 1;\n",
       "        } else {\n",
       "            event.step = -1;\n",
       "        }\n",
       "        mouse_event_fn(event);\n",
       "    });\n",
       "\n",
       "    canvas_div.append(canvas);\n",
       "    canvas_div.append(rubberband);\n",
       "\n",
       "    this.rubberband = rubberband;\n",
       "    this.rubberband_canvas = rubberband[0];\n",
       "    this.rubberband_context = rubberband[0].getContext(\"2d\");\n",
       "    this.rubberband_context.strokeStyle = \"#000000\";\n",
       "\n",
       "    this._resize_canvas = function(width, height) {\n",
       "        // Keep the size of the canvas, canvas container, and rubber band\n",
       "        // canvas in synch.\n",
       "        canvas_div.css('width', width)\n",
       "        canvas_div.css('height', height)\n",
       "\n",
       "        canvas.attr('width', width * mpl.ratio);\n",
       "        canvas.attr('height', height * mpl.ratio);\n",
       "        canvas.attr('style', 'width: ' + width + 'px; height: ' + height + 'px;');\n",
       "\n",
       "        rubberband.attr('width', width);\n",
       "        rubberband.attr('height', height);\n",
       "    }\n",
       "\n",
       "    // Set the figure to an initial 600x600px, this will subsequently be updated\n",
       "    // upon first draw.\n",
       "    this._resize_canvas(600, 600);\n",
       "\n",
       "    // Disable right mouse context menu.\n",
       "    $(this.rubberband_canvas).bind(\"contextmenu\",function(e){\n",
       "        return false;\n",
       "    });\n",
       "\n",
       "    function set_focus () {\n",
       "        canvas.focus();\n",
       "        canvas_div.focus();\n",
       "    }\n",
       "\n",
       "    window.setTimeout(set_focus, 100);\n",
       "}\n",
       "\n",
       "mpl.figure.prototype._init_toolbar = function() {\n",
       "    var fig = this;\n",
       "\n",
       "    var nav_element = $('<div/>')\n",
       "    nav_element.attr('style', 'width: 100%');\n",
       "    this.root.append(nav_element);\n",
       "\n",
       "    // Define a callback function for later on.\n",
       "    function toolbar_event(event) {\n",
       "        return fig.toolbar_button_onclick(event['data']);\n",
       "    }\n",
       "    function toolbar_mouse_event(event) {\n",
       "        return fig.toolbar_button_onmouseover(event['data']);\n",
       "    }\n",
       "\n",
       "    for(var toolbar_ind in mpl.toolbar_items) {\n",
       "        var name = mpl.toolbar_items[toolbar_ind][0];\n",
       "        var tooltip = mpl.toolbar_items[toolbar_ind][1];\n",
       "        var image = mpl.toolbar_items[toolbar_ind][2];\n",
       "        var method_name = mpl.toolbar_items[toolbar_ind][3];\n",
       "\n",
       "        if (!name) {\n",
       "            // put a spacer in here.\n",
       "            continue;\n",
       "        }\n",
       "        var button = $('<button/>');\n",
       "        button.addClass('ui-button ui-widget ui-state-default ui-corner-all ' +\n",
       "                        'ui-button-icon-only');\n",
       "        button.attr('role', 'button');\n",
       "        button.attr('aria-disabled', 'false');\n",
       "        button.click(method_name, toolbar_event);\n",
       "        button.mouseover(tooltip, toolbar_mouse_event);\n",
       "\n",
       "        var icon_img = $('<span/>');\n",
       "        icon_img.addClass('ui-button-icon-primary ui-icon');\n",
       "        icon_img.addClass(image);\n",
       "        icon_img.addClass('ui-corner-all');\n",
       "\n",
       "        var tooltip_span = $('<span/>');\n",
       "        tooltip_span.addClass('ui-button-text');\n",
       "        tooltip_span.html(tooltip);\n",
       "\n",
       "        button.append(icon_img);\n",
       "        button.append(tooltip_span);\n",
       "\n",
       "        nav_element.append(button);\n",
       "    }\n",
       "\n",
       "    var fmt_picker_span = $('<span/>');\n",
       "\n",
       "    var fmt_picker = $('<select/>');\n",
       "    fmt_picker.addClass('mpl-toolbar-option ui-widget ui-widget-content');\n",
       "    fmt_picker_span.append(fmt_picker);\n",
       "    nav_element.append(fmt_picker_span);\n",
       "    this.format_dropdown = fmt_picker[0];\n",
       "\n",
       "    for (var ind in mpl.extensions) {\n",
       "        var fmt = mpl.extensions[ind];\n",
       "        var option = $(\n",
       "            '<option/>', {selected: fmt === mpl.default_extension}).html(fmt);\n",
       "        fmt_picker.append(option)\n",
       "    }\n",
       "\n",
       "    // Add hover states to the ui-buttons\n",
       "    $( \".ui-button\" ).hover(\n",
       "        function() { $(this).addClass(\"ui-state-hover\");},\n",
       "        function() { $(this).removeClass(\"ui-state-hover\");}\n",
       "    );\n",
       "\n",
       "    var status_bar = $('<span class=\"mpl-message\"/>');\n",
       "    nav_element.append(status_bar);\n",
       "    this.message = status_bar[0];\n",
       "}\n",
       "\n",
       "mpl.figure.prototype.request_resize = function(x_pixels, y_pixels) {\n",
       "    // Request matplotlib to resize the figure. Matplotlib will then trigger a resize in the client,\n",
       "    // which will in turn request a refresh of the image.\n",
       "    this.send_message('resize', {'width': x_pixels, 'height': y_pixels});\n",
       "}\n",
       "\n",
       "mpl.figure.prototype.send_message = function(type, properties) {\n",
       "    properties['type'] = type;\n",
       "    properties['figure_id'] = this.id;\n",
       "    this.ws.send(JSON.stringify(properties));\n",
       "}\n",
       "\n",
       "mpl.figure.prototype.send_draw_message = function() {\n",
       "    if (!this.waiting) {\n",
       "        this.waiting = true;\n",
       "        this.ws.send(JSON.stringify({type: \"draw\", figure_id: this.id}));\n",
       "    }\n",
       "}\n",
       "\n",
       "\n",
       "mpl.figure.prototype.handle_save = function(fig, msg) {\n",
       "    var format_dropdown = fig.format_dropdown;\n",
       "    var format = format_dropdown.options[format_dropdown.selectedIndex].value;\n",
       "    fig.ondownload(fig, format);\n",
       "}\n",
       "\n",
       "\n",
       "mpl.figure.prototype.handle_resize = function(fig, msg) {\n",
       "    var size = msg['size'];\n",
       "    if (size[0] != fig.canvas.width || size[1] != fig.canvas.height) {\n",
       "        fig._resize_canvas(size[0], size[1]);\n",
       "        fig.send_message(\"refresh\", {});\n",
       "    };\n",
       "}\n",
       "\n",
       "mpl.figure.prototype.handle_rubberband = function(fig, msg) {\n",
       "    var x0 = msg['x0'] / mpl.ratio;\n",
       "    var y0 = (fig.canvas.height - msg['y0']) / mpl.ratio;\n",
       "    var x1 = msg['x1'] / mpl.ratio;\n",
       "    var y1 = (fig.canvas.height - msg['y1']) / mpl.ratio;\n",
       "    x0 = Math.floor(x0) + 0.5;\n",
       "    y0 = Math.floor(y0) + 0.5;\n",
       "    x1 = Math.floor(x1) + 0.5;\n",
       "    y1 = Math.floor(y1) + 0.5;\n",
       "    var min_x = Math.min(x0, x1);\n",
       "    var min_y = Math.min(y0, y1);\n",
       "    var width = Math.abs(x1 - x0);\n",
       "    var height = Math.abs(y1 - y0);\n",
       "\n",
       "    fig.rubberband_context.clearRect(\n",
       "        0, 0, fig.canvas.width, fig.canvas.height);\n",
       "\n",
       "    fig.rubberband_context.strokeRect(min_x, min_y, width, height);\n",
       "}\n",
       "\n",
       "mpl.figure.prototype.handle_figure_label = function(fig, msg) {\n",
       "    // Updates the figure title.\n",
       "    fig.header.textContent = msg['label'];\n",
       "}\n",
       "\n",
       "mpl.figure.prototype.handle_cursor = function(fig, msg) {\n",
       "    var cursor = msg['cursor'];\n",
       "    switch(cursor)\n",
       "    {\n",
       "    case 0:\n",
       "        cursor = 'pointer';\n",
       "        break;\n",
       "    case 1:\n",
       "        cursor = 'default';\n",
       "        break;\n",
       "    case 2:\n",
       "        cursor = 'crosshair';\n",
       "        break;\n",
       "    case 3:\n",
       "        cursor = 'move';\n",
       "        break;\n",
       "    }\n",
       "    fig.rubberband_canvas.style.cursor = cursor;\n",
       "}\n",
       "\n",
       "mpl.figure.prototype.handle_message = function(fig, msg) {\n",
       "    fig.message.textContent = msg['message'];\n",
       "}\n",
       "\n",
       "mpl.figure.prototype.handle_draw = function(fig, msg) {\n",
       "    // Request the server to send over a new figure.\n",
       "    fig.send_draw_message();\n",
       "}\n",
       "\n",
       "mpl.figure.prototype.handle_image_mode = function(fig, msg) {\n",
       "    fig.image_mode = msg['mode'];\n",
       "}\n",
       "\n",
       "mpl.figure.prototype.updated_canvas_event = function() {\n",
       "    // Called whenever the canvas gets updated.\n",
       "    this.send_message(\"ack\", {});\n",
       "}\n",
       "\n",
       "// A function to construct a web socket function for onmessage handling.\n",
       "// Called in the figure constructor.\n",
       "mpl.figure.prototype._make_on_message_function = function(fig) {\n",
       "    return function socket_on_message(evt) {\n",
       "        if (evt.data instanceof Blob) {\n",
       "            /* FIXME: We get \"Resource interpreted as Image but\n",
       "             * transferred with MIME type text/plain:\" errors on\n",
       "             * Chrome.  But how to set the MIME type?  It doesn't seem\n",
       "             * to be part of the websocket stream */\n",
       "            evt.data.type = \"image/png\";\n",
       "\n",
       "            /* Free the memory for the previous frames */\n",
       "            if (fig.imageObj.src) {\n",
       "                (window.URL || window.webkitURL).revokeObjectURL(\n",
       "                    fig.imageObj.src);\n",
       "            }\n",
       "\n",
       "            fig.imageObj.src = (window.URL || window.webkitURL).createObjectURL(\n",
       "                evt.data);\n",
       "            fig.updated_canvas_event();\n",
       "            fig.waiting = false;\n",
       "            return;\n",
       "        }\n",
       "        else if (typeof evt.data === 'string' && evt.data.slice(0, 21) == \"data:image/png;base64\") {\n",
       "            fig.imageObj.src = evt.data;\n",
       "            fig.updated_canvas_event();\n",
       "            fig.waiting = false;\n",
       "            return;\n",
       "        }\n",
       "\n",
       "        var msg = JSON.parse(evt.data);\n",
       "        var msg_type = msg['type'];\n",
       "\n",
       "        // Call the  \"handle_{type}\" callback, which takes\n",
       "        // the figure and JSON message as its only arguments.\n",
       "        try {\n",
       "            var callback = fig[\"handle_\" + msg_type];\n",
       "        } catch (e) {\n",
       "            console.log(\"No handler for the '\" + msg_type + \"' message type: \", msg);\n",
       "            return;\n",
       "        }\n",
       "\n",
       "        if (callback) {\n",
       "            try {\n",
       "                // console.log(\"Handling '\" + msg_type + \"' message: \", msg);\n",
       "                callback(fig, msg);\n",
       "            } catch (e) {\n",
       "                console.log(\"Exception inside the 'handler_\" + msg_type + \"' callback:\", e, e.stack, msg);\n",
       "            }\n",
       "        }\n",
       "    };\n",
       "}\n",
       "\n",
       "// from http://stackoverflow.com/questions/1114465/getting-mouse-location-in-canvas\n",
       "mpl.findpos = function(e) {\n",
       "    //this section is from http://www.quirksmode.org/js/events_properties.html\n",
       "    var targ;\n",
       "    if (!e)\n",
       "        e = window.event;\n",
       "    if (e.target)\n",
       "        targ = e.target;\n",
       "    else if (e.srcElement)\n",
       "        targ = e.srcElement;\n",
       "    if (targ.nodeType == 3) // defeat Safari bug\n",
       "        targ = targ.parentNode;\n",
       "\n",
       "    // jQuery normalizes the pageX and pageY\n",
       "    // pageX,Y are the mouse positions relative to the document\n",
       "    // offset() returns the position of the element relative to the document\n",
       "    var x = e.pageX - $(targ).offset().left;\n",
       "    var y = e.pageY - $(targ).offset().top;\n",
       "\n",
       "    return {\"x\": x, \"y\": y};\n",
       "};\n",
       "\n",
       "/*\n",
       " * return a copy of an object with only non-object keys\n",
       " * we need this to avoid circular references\n",
       " * http://stackoverflow.com/a/24161582/3208463\n",
       " */\n",
       "function simpleKeys (original) {\n",
       "  return Object.keys(original).reduce(function (obj, key) {\n",
       "    if (typeof original[key] !== 'object')\n",
       "        obj[key] = original[key]\n",
       "    return obj;\n",
       "  }, {});\n",
       "}\n",
       "\n",
       "mpl.figure.prototype.mouse_event = function(event, name) {\n",
       "    var canvas_pos = mpl.findpos(event)\n",
       "\n",
       "    if (name === 'button_press')\n",
       "    {\n",
       "        this.canvas.focus();\n",
       "        this.canvas_div.focus();\n",
       "    }\n",
       "\n",
       "    var x = canvas_pos.x * mpl.ratio;\n",
       "    var y = canvas_pos.y * mpl.ratio;\n",
       "\n",
       "    this.send_message(name, {x: x, y: y, button: event.button,\n",
       "                             step: event.step,\n",
       "                             guiEvent: simpleKeys(event)});\n",
       "\n",
       "    /* This prevents the web browser from automatically changing to\n",
       "     * the text insertion cursor when the button is pressed.  We want\n",
       "     * to control all of the cursor setting manually through the\n",
       "     * 'cursor' event from matplotlib */\n",
       "    event.preventDefault();\n",
       "    return false;\n",
       "}\n",
       "\n",
       "mpl.figure.prototype._key_event_extra = function(event, name) {\n",
       "    // Handle any extra behaviour associated with a key event\n",
       "}\n",
       "\n",
       "mpl.figure.prototype.key_event = function(event, name) {\n",
       "\n",
       "    // Prevent repeat events\n",
       "    if (name == 'key_press')\n",
       "    {\n",
       "        if (event.which === this._key)\n",
       "            return;\n",
       "        else\n",
       "            this._key = event.which;\n",
       "    }\n",
       "    if (name == 'key_release')\n",
       "        this._key = null;\n",
       "\n",
       "    var value = '';\n",
       "    if (event.ctrlKey && event.which != 17)\n",
       "        value += \"ctrl+\";\n",
       "    if (event.altKey && event.which != 18)\n",
       "        value += \"alt+\";\n",
       "    if (event.shiftKey && event.which != 16)\n",
       "        value += \"shift+\";\n",
       "\n",
       "    value += 'k';\n",
       "    value += event.which.toString();\n",
       "\n",
       "    this._key_event_extra(event, name);\n",
       "\n",
       "    this.send_message(name, {key: value,\n",
       "                             guiEvent: simpleKeys(event)});\n",
       "    return false;\n",
       "}\n",
       "\n",
       "mpl.figure.prototype.toolbar_button_onclick = function(name) {\n",
       "    if (name == 'download') {\n",
       "        this.handle_save(this, null);\n",
       "    } else {\n",
       "        this.send_message(\"toolbar_button\", {name: name});\n",
       "    }\n",
       "};\n",
       "\n",
       "mpl.figure.prototype.toolbar_button_onmouseover = function(tooltip) {\n",
       "    this.message.textContent = tooltip;\n",
       "};\n",
       "mpl.toolbar_items = [[\"Home\", \"Reset original view\", \"fa fa-home icon-home\", \"home\"], [\"Back\", \"Back to previous view\", \"fa fa-arrow-left icon-arrow-left\", \"back\"], [\"Forward\", \"Forward to next view\", \"fa fa-arrow-right icon-arrow-right\", \"forward\"], [\"\", \"\", \"\", \"\"], [\"Pan\", \"Pan axes with left mouse, zoom with right\", \"fa fa-arrows icon-move\", \"pan\"], [\"Zoom\", \"Zoom to rectangle\", \"fa fa-square-o icon-check-empty\", \"zoom\"], [\"\", \"\", \"\", \"\"], [\"Download\", \"Download plot\", \"fa fa-floppy-o icon-save\", \"download\"]];\n",
       "\n",
       "mpl.extensions = [\"eps\", \"jpeg\", \"pdf\", \"png\", \"ps\", \"raw\", \"svg\", \"tif\"];\n",
       "\n",
       "mpl.default_extension = \"png\";var comm_websocket_adapter = function(comm) {\n",
       "    // Create a \"websocket\"-like object which calls the given IPython comm\n",
       "    // object with the appropriate methods. Currently this is a non binary\n",
       "    // socket, so there is still some room for performance tuning.\n",
       "    var ws = {};\n",
       "\n",
       "    ws.close = function() {\n",
       "        comm.close()\n",
       "    };\n",
       "    ws.send = function(m) {\n",
       "        //console.log('sending', m);\n",
       "        comm.send(m);\n",
       "    };\n",
       "    // Register the callback with on_msg.\n",
       "    comm.on_msg(function(msg) {\n",
       "        //console.log('receiving', msg['content']['data'], msg);\n",
       "        // Pass the mpl event to the overridden (by mpl) onmessage function.\n",
       "        ws.onmessage(msg['content']['data'])\n",
       "    });\n",
       "    return ws;\n",
       "}\n",
       "\n",
       "mpl.mpl_figure_comm = function(comm, msg) {\n",
       "    // This is the function which gets called when the mpl process\n",
       "    // starts-up an IPython Comm through the \"matplotlib\" channel.\n",
       "\n",
       "    var id = msg.content.data.id;\n",
       "    // Get hold of the div created by the display call when the Comm\n",
       "    // socket was opened in Python.\n",
       "    var element = $(\"#\" + id);\n",
       "    var ws_proxy = comm_websocket_adapter(comm)\n",
       "\n",
       "    function ondownload(figure, format) {\n",
       "        window.open(figure.imageObj.src);\n",
       "    }\n",
       "\n",
       "    var fig = new mpl.figure(id, ws_proxy,\n",
       "                           ondownload,\n",
       "                           element.get(0));\n",
       "\n",
       "    // Call onopen now - mpl needs it, as it is assuming we've passed it a real\n",
       "    // web socket which is closed, not our websocket->open comm proxy.\n",
       "    ws_proxy.onopen();\n",
       "\n",
       "    fig.parent_element = element.get(0);\n",
       "    fig.cell_info = mpl.find_output_cell(\"<div id='\" + id + \"'></div>\");\n",
       "    if (!fig.cell_info) {\n",
       "        console.error(\"Failed to find cell for figure\", id, fig);\n",
       "        return;\n",
       "    }\n",
       "\n",
       "    var output_index = fig.cell_info[2]\n",
       "    var cell = fig.cell_info[0];\n",
       "\n",
       "};\n",
       "\n",
       "mpl.figure.prototype.handle_close = function(fig, msg) {\n",
       "    var width = fig.canvas.width/mpl.ratio\n",
       "    fig.root.unbind('remove')\n",
       "\n",
       "    // Update the output cell to use the data from the current canvas.\n",
       "    fig.push_to_output();\n",
       "    var dataURL = fig.canvas.toDataURL();\n",
       "    // Re-enable the keyboard manager in IPython - without this line, in FF,\n",
       "    // the notebook keyboard shortcuts fail.\n",
       "    IPython.keyboard_manager.enable()\n",
       "    $(fig.parent_element).html('<img src=\"' + dataURL + '\" width=\"' + width + '\">');\n",
       "    fig.close_ws(fig, msg);\n",
       "}\n",
       "\n",
       "mpl.figure.prototype.close_ws = function(fig, msg){\n",
       "    fig.send_message('closing', msg);\n",
       "    // fig.ws.close()\n",
       "}\n",
       "\n",
       "mpl.figure.prototype.push_to_output = function(remove_interactive) {\n",
       "    // Turn the data on the canvas into data in the output cell.\n",
       "    var width = this.canvas.width/mpl.ratio\n",
       "    var dataURL = this.canvas.toDataURL();\n",
       "    this.cell_info[1]['text/html'] = '<img src=\"' + dataURL + '\" width=\"' + width + '\">';\n",
       "}\n",
       "\n",
       "mpl.figure.prototype.updated_canvas_event = function() {\n",
       "    // Tell IPython that the notebook contents must change.\n",
       "    IPython.notebook.set_dirty(true);\n",
       "    this.send_message(\"ack\", {});\n",
       "    var fig = this;\n",
       "    // Wait a second, then push the new image to the DOM so\n",
       "    // that it is saved nicely (might be nice to debounce this).\n",
       "    setTimeout(function () { fig.push_to_output() }, 1000);\n",
       "}\n",
       "\n",
       "mpl.figure.prototype._init_toolbar = function() {\n",
       "    var fig = this;\n",
       "\n",
       "    var nav_element = $('<div/>')\n",
       "    nav_element.attr('style', 'width: 100%');\n",
       "    this.root.append(nav_element);\n",
       "\n",
       "    // Define a callback function for later on.\n",
       "    function toolbar_event(event) {\n",
       "        return fig.toolbar_button_onclick(event['data']);\n",
       "    }\n",
       "    function toolbar_mouse_event(event) {\n",
       "        return fig.toolbar_button_onmouseover(event['data']);\n",
       "    }\n",
       "\n",
       "    for(var toolbar_ind in mpl.toolbar_items){\n",
       "        var name = mpl.toolbar_items[toolbar_ind][0];\n",
       "        var tooltip = mpl.toolbar_items[toolbar_ind][1];\n",
       "        var image = mpl.toolbar_items[toolbar_ind][2];\n",
       "        var method_name = mpl.toolbar_items[toolbar_ind][3];\n",
       "\n",
       "        if (!name) { continue; };\n",
       "\n",
       "        var button = $('<button class=\"btn btn-default\" href=\"#\" title=\"' + name + '\"><i class=\"fa ' + image + ' fa-lg\"></i></button>');\n",
       "        button.click(method_name, toolbar_event);\n",
       "        button.mouseover(tooltip, toolbar_mouse_event);\n",
       "        nav_element.append(button);\n",
       "    }\n",
       "\n",
       "    // Add the status bar.\n",
       "    var status_bar = $('<span class=\"mpl-message\" style=\"text-align:right; float: right;\"/>');\n",
       "    nav_element.append(status_bar);\n",
       "    this.message = status_bar[0];\n",
       "\n",
       "    // Add the close button to the window.\n",
       "    var buttongrp = $('<div class=\"btn-group inline pull-right\"></div>');\n",
       "    var button = $('<button class=\"btn btn-mini btn-primary\" href=\"#\" title=\"Stop Interaction\"><i class=\"fa fa-power-off icon-remove icon-large\"></i></button>');\n",
       "    button.click(function (evt) { fig.handle_close(fig, {}); } );\n",
       "    button.mouseover('Stop Interaction', toolbar_mouse_event);\n",
       "    buttongrp.append(button);\n",
       "    var titlebar = this.root.find($('.ui-dialog-titlebar'));\n",
       "    titlebar.prepend(buttongrp);\n",
       "}\n",
       "\n",
       "mpl.figure.prototype._root_extra_style = function(el){\n",
       "    var fig = this\n",
       "    el.on(\"remove\", function(){\n",
       "\tfig.close_ws(fig, {});\n",
       "    });\n",
       "}\n",
       "\n",
       "mpl.figure.prototype._canvas_extra_style = function(el){\n",
       "    // this is important to make the div 'focusable\n",
       "    el.attr('tabindex', 0)\n",
       "    // reach out to IPython and tell the keyboard manager to turn it's self\n",
       "    // off when our div gets focus\n",
       "\n",
       "    // location in version 3\n",
       "    if (IPython.notebook.keyboard_manager) {\n",
       "        IPython.notebook.keyboard_manager.register_events(el);\n",
       "    }\n",
       "    else {\n",
       "        // location in version 2\n",
       "        IPython.keyboard_manager.register_events(el);\n",
       "    }\n",
       "\n",
       "}\n",
       "\n",
       "mpl.figure.prototype._key_event_extra = function(event, name) {\n",
       "    var manager = IPython.notebook.keyboard_manager;\n",
       "    if (!manager)\n",
       "        manager = IPython.keyboard_manager;\n",
       "\n",
       "    // Check for shift+enter\n",
       "    if (event.shiftKey && event.which == 13) {\n",
       "        this.canvas_div.blur();\n",
       "        event.shiftKey = false;\n",
       "        // Send a \"J\" for go to next cell\n",
       "        event.which = 74;\n",
       "        event.keyCode = 74;\n",
       "        manager.command_mode();\n",
       "        manager.handle_keydown(event);\n",
       "    }\n",
       "}\n",
       "\n",
       "mpl.figure.prototype.handle_save = function(fig, msg) {\n",
       "    fig.ondownload(fig, null);\n",
       "}\n",
       "\n",
       "\n",
       "mpl.find_output_cell = function(html_output) {\n",
       "    // Return the cell and output element which can be found *uniquely* in the notebook.\n",
       "    // Note - this is a bit hacky, but it is done because the \"notebook_saving.Notebook\"\n",
       "    // IPython event is triggered only after the cells have been serialised, which for\n",
       "    // our purposes (turning an active figure into a static one), is too late.\n",
       "    var cells = IPython.notebook.get_cells();\n",
       "    var ncells = cells.length;\n",
       "    for (var i=0; i<ncells; i++) {\n",
       "        var cell = cells[i];\n",
       "        if (cell.cell_type === 'code'){\n",
       "            for (var j=0; j<cell.output_area.outputs.length; j++) {\n",
       "                var data = cell.output_area.outputs[j];\n",
       "                if (data.data) {\n",
       "                    // IPython >= 3 moved mimebundle to data attribute of output\n",
       "                    data = data.data;\n",
       "                }\n",
       "                if (data['text/html'] == html_output) {\n",
       "                    return [cell, data, j];\n",
       "                }\n",
       "            }\n",
       "        }\n",
       "    }\n",
       "}\n",
       "\n",
       "// Register the function which deals with the matplotlib target/channel.\n",
       "// The kernel may be null if the page has been refreshed.\n",
       "if (IPython.notebook.kernel != null) {\n",
       "    IPython.notebook.kernel.comm_manager.register_target('matplotlib', mpl.mpl_figure_comm);\n",
       "}\n"
      ],
      "text/plain": [
       "<IPython.core.display.Javascript object>"
      ]
     },
     "metadata": {},
     "output_type": "display_data"
    },
    {
     "data": {
      "text/html": [
       "<img src=\"data:image/png;base64,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\" width=\"719.9999843944206\">"
      ],
      "text/plain": [
       "<IPython.core.display.HTML object>"
      ]
     },
     "metadata": {},
     "output_type": "display_data"
    }
   ],
   "source": [
    "%matplotlib notebook\n",
    "fig = plt.figure(figsize=(10,6))\n",
    "ax = fig.add_subplot(111,projection='3d')\n",
    "ax.scatter(xs=X_test['TV'],ys=X_test['Radio'],zs=y_test)\n",
    "ax.set_xlabel(\"TV\")\n",
    "ax.set_ylabel(\"Radio\")\n",
    "ax.set_zlabel(\"Sales\")\n",
    "plt.show()"
   ]
  },
  {
   "cell_type": "code",
   "execution_count": 102,
   "metadata": {},
   "outputs": [],
   "source": [
    "model = LinearRegression()"
   ]
  },
  {
   "cell_type": "code",
   "execution_count": 103,
   "metadata": {},
   "outputs": [
    {
     "data": {
      "text/plain": [
       "LinearRegression(copy_X=True, fit_intercept=True, n_jobs=None,\n",
       "         normalize=False)"
      ]
     },
     "execution_count": 103,
     "metadata": {},
     "output_type": "execute_result"
    }
   ],
   "source": [
    "model.fit(X_train,y_train)"
   ]
  },
  {
   "cell_type": "code",
   "execution_count": 104,
   "metadata": {},
   "outputs": [
    {
     "data": {
      "text/plain": [
       "array([0.04407736, 0.20260566])"
      ]
     },
     "execution_count": 104,
     "metadata": {},
     "output_type": "execute_result"
    }
   ],
   "source": [
    "model.coef_"
   ]
  },
  {
   "cell_type": "code",
   "execution_count": 105,
   "metadata": {},
   "outputs": [
    {
     "data": {
      "text/plain": [
       "2.8376172369051815"
      ]
     },
     "execution_count": 105,
     "metadata": {},
     "output_type": "execute_result"
    }
   ],
   "source": [
    "model.intercept_"
   ]
  },
  {
   "cell_type": "code",
   "execution_count": 108,
   "metadata": {},
   "outputs": [],
   "source": [
    "tv = 100\n",
    "radio = 300\n",
    "sales = model.intercept_ + model.coef_[0]*tv + model.coef_[1]*radio"
   ]
  },
  {
   "cell_type": "code",
   "execution_count": 109,
   "metadata": {},
   "outputs": [
    {
     "data": {
      "text/plain": [
       "68.02705148407546"
      ]
     },
     "execution_count": 109,
     "metadata": {},
     "output_type": "execute_result"
    }
   ],
   "source": [
    "sales"
   ]
  },
  {
   "cell_type": "code",
   "execution_count": 110,
   "metadata": {},
   "outputs": [],
   "source": [
    "y_pred = model.predict(X_test)"
   ]
  },
  {
   "cell_type": "code",
   "execution_count": 111,
   "metadata": {},
   "outputs": [
    {
     "data": {
      "text/html": [
       "<div>\n",
       "<style scoped>\n",
       "    .dataframe tbody tr th:only-of-type {\n",
       "        vertical-align: middle;\n",
       "    }\n",
       "\n",
       "    .dataframe tbody tr th {\n",
       "        vertical-align: top;\n",
       "    }\n",
       "\n",
       "    .dataframe thead th {\n",
       "        text-align: right;\n",
       "    }\n",
       "</style>\n",
       "<table border=\"1\" class=\"dataframe\">\n",
       "  <thead>\n",
       "    <tr style=\"text-align: right;\">\n",
       "      <th></th>\n",
       "      <th>TV</th>\n",
       "      <th>Radio</th>\n",
       "    </tr>\n",
       "  </thead>\n",
       "  <tbody>\n",
       "    <tr>\n",
       "      <th>96</th>\n",
       "      <td>163.3</td>\n",
       "      <td>31.6</td>\n",
       "    </tr>\n",
       "    <tr>\n",
       "      <th>16</th>\n",
       "      <td>195.4</td>\n",
       "      <td>47.7</td>\n",
       "    </tr>\n",
       "    <tr>\n",
       "      <th>31</th>\n",
       "      <td>292.9</td>\n",
       "      <td>28.3</td>\n",
       "    </tr>\n",
       "    <tr>\n",
       "      <th>159</th>\n",
       "      <td>11.7</td>\n",
       "      <td>36.9</td>\n",
       "    </tr>\n",
       "    <tr>\n",
       "      <th>129</th>\n",
       "      <td>220.3</td>\n",
       "      <td>49.0</td>\n",
       "    </tr>\n",
       "  </tbody>\n",
       "</table>\n",
       "</div>"
      ],
      "text/plain": [
       "        TV  Radio\n",
       "96   163.3   31.6\n",
       "16   195.4   47.7\n",
       "31   292.9   28.3\n",
       "159   11.7   36.9\n",
       "129  220.3   49.0"
      ]
     },
     "execution_count": 111,
     "metadata": {},
     "output_type": "execute_result"
    }
   ],
   "source": [
    "X_test[:5]"
   ]
  },
  {
   "cell_type": "code",
   "execution_count": 113,
   "metadata": {},
   "outputs": [
    {
     "data": {
      "text/plain": [
       "96     16.9\n",
       "16     22.4\n",
       "31     21.4\n",
       "159     7.3\n",
       "129    24.7\n",
       "Name: Sales, dtype: float64"
      ]
     },
     "execution_count": 113,
     "metadata": {},
     "output_type": "execute_result"
    }
   ],
   "source": [
    "y_test[:5]"
   ]
  },
  {
   "cell_type": "code",
   "execution_count": 114,
   "metadata": {},
   "outputs": [
    {
     "data": {
      "text/plain": [
       "array([16.43778963, 21.11462413, 21.48161733, 10.82947123, 22.47553785])"
      ]
     },
     "execution_count": 114,
     "metadata": {},
     "output_type": "execute_result"
    }
   ],
   "source": [
    "y_pred[:5]"
   ]
  },
  {
   "cell_type": "code",
   "execution_count": 115,
   "metadata": {},
   "outputs": [
    {
     "data": {
      "text/plain": [
       "3.6690470545306813"
      ]
     },
     "execution_count": 115,
     "metadata": {},
     "output_type": "execute_result"
    }
   ],
   "source": [
    "mean_squared_error(y_test,y_pred)"
   ]
  },
  {
   "cell_type": "code",
   "execution_count": 116,
   "metadata": {},
   "outputs": [
    {
     "data": {
      "text/plain": [
       "0.8656253548947074"
      ]
     },
     "execution_count": 116,
     "metadata": {},
     "output_type": "execute_result"
    }
   ],
   "source": [
    "r2_score(y_test,y_pred)"
   ]
  },
  {
   "cell_type": "code",
   "execution_count": 121,
   "metadata": {},
   "outputs": [
    {
     "data": {
      "application/javascript": [
       "/* Put everything inside the global mpl namespace */\n",
       "window.mpl = {};\n",
       "\n",
       "\n",
       "mpl.get_websocket_type = function() {\n",
       "    if (typeof(WebSocket) !== 'undefined') {\n",
       "        return WebSocket;\n",
       "    } else if (typeof(MozWebSocket) !== 'undefined') {\n",
       "        return MozWebSocket;\n",
       "    } else {\n",
       "        alert('Your browser does not have WebSocket support.' +\n",
       "              'Please try Chrome, Safari or Firefox ≥ 6. ' +\n",
       "              'Firefox 4 and 5 are also supported but you ' +\n",
       "              'have to enable WebSockets in about:config.');\n",
       "    };\n",
       "}\n",
       "\n",
       "mpl.figure = function(figure_id, websocket, ondownload, parent_element) {\n",
       "    this.id = figure_id;\n",
       "\n",
       "    this.ws = websocket;\n",
       "\n",
       "    this.supports_binary = (this.ws.binaryType != undefined);\n",
       "\n",
       "    if (!this.supports_binary) {\n",
       "        var warnings = document.getElementById(\"mpl-warnings\");\n",
       "        if (warnings) {\n",
       "            warnings.style.display = 'block';\n",
       "            warnings.textContent = (\n",
       "                \"This browser does not support binary websocket messages. \" +\n",
       "                    \"Performance may be slow.\");\n",
       "        }\n",
       "    }\n",
       "\n",
       "    this.imageObj = new Image();\n",
       "\n",
       "    this.context = undefined;\n",
       "    this.message = undefined;\n",
       "    this.canvas = undefined;\n",
       "    this.rubberband_canvas = undefined;\n",
       "    this.rubberband_context = undefined;\n",
       "    this.format_dropdown = undefined;\n",
       "\n",
       "    this.image_mode = 'full';\n",
       "\n",
       "    this.root = $('<div/>');\n",
       "    this._root_extra_style(this.root)\n",
       "    this.root.attr('style', 'display: inline-block');\n",
       "\n",
       "    $(parent_element).append(this.root);\n",
       "\n",
       "    this._init_header(this);\n",
       "    this._init_canvas(this);\n",
       "    this._init_toolbar(this);\n",
       "\n",
       "    var fig = this;\n",
       "\n",
       "    this.waiting = false;\n",
       "\n",
       "    this.ws.onopen =  function () {\n",
       "            fig.send_message(\"supports_binary\", {value: fig.supports_binary});\n",
       "            fig.send_message(\"send_image_mode\", {});\n",
       "            if (mpl.ratio != 1) {\n",
       "                fig.send_message(\"set_dpi_ratio\", {'dpi_ratio': mpl.ratio});\n",
       "            }\n",
       "            fig.send_message(\"refresh\", {});\n",
       "        }\n",
       "\n",
       "    this.imageObj.onload = function() {\n",
       "            if (fig.image_mode == 'full') {\n",
       "                // Full images could contain transparency (where diff images\n",
       "                // almost always do), so we need to clear the canvas so that\n",
       "                // there is no ghosting.\n",
       "                fig.context.clearRect(0, 0, fig.canvas.width, fig.canvas.height);\n",
       "            }\n",
       "            fig.context.drawImage(fig.imageObj, 0, 0);\n",
       "        };\n",
       "\n",
       "    this.imageObj.onunload = function() {\n",
       "        fig.ws.close();\n",
       "    }\n",
       "\n",
       "    this.ws.onmessage = this._make_on_message_function(this);\n",
       "\n",
       "    this.ondownload = ondownload;\n",
       "}\n",
       "\n",
       "mpl.figure.prototype._init_header = function() {\n",
       "    var titlebar = $(\n",
       "        '<div class=\"ui-dialog-titlebar ui-widget-header ui-corner-all ' +\n",
       "        'ui-helper-clearfix\"/>');\n",
       "    var titletext = $(\n",
       "        '<div class=\"ui-dialog-title\" style=\"width: 100%; ' +\n",
       "        'text-align: center; padding: 3px;\"/>');\n",
       "    titlebar.append(titletext)\n",
       "    this.root.append(titlebar);\n",
       "    this.header = titletext[0];\n",
       "}\n",
       "\n",
       "\n",
       "\n",
       "mpl.figure.prototype._canvas_extra_style = function(canvas_div) {\n",
       "\n",
       "}\n",
       "\n",
       "\n",
       "mpl.figure.prototype._root_extra_style = function(canvas_div) {\n",
       "\n",
       "}\n",
       "\n",
       "mpl.figure.prototype._init_canvas = function() {\n",
       "    var fig = this;\n",
       "\n",
       "    var canvas_div = $('<div/>');\n",
       "\n",
       "    canvas_div.attr('style', 'position: relative; clear: both; outline: 0');\n",
       "\n",
       "    function canvas_keyboard_event(event) {\n",
       "        return fig.key_event(event, event['data']);\n",
       "    }\n",
       "\n",
       "    canvas_div.keydown('key_press', canvas_keyboard_event);\n",
       "    canvas_div.keyup('key_release', canvas_keyboard_event);\n",
       "    this.canvas_div = canvas_div\n",
       "    this._canvas_extra_style(canvas_div)\n",
       "    this.root.append(canvas_div);\n",
       "\n",
       "    var canvas = $('<canvas/>');\n",
       "    canvas.addClass('mpl-canvas');\n",
       "    canvas.attr('style', \"left: 0; top: 0; z-index: 0; outline: 0\")\n",
       "\n",
       "    this.canvas = canvas[0];\n",
       "    this.context = canvas[0].getContext(\"2d\");\n",
       "\n",
       "    var backingStore = this.context.backingStorePixelRatio ||\n",
       "\tthis.context.webkitBackingStorePixelRatio ||\n",
       "\tthis.context.mozBackingStorePixelRatio ||\n",
       "\tthis.context.msBackingStorePixelRatio ||\n",
       "\tthis.context.oBackingStorePixelRatio ||\n",
       "\tthis.context.backingStorePixelRatio || 1;\n",
       "\n",
       "    mpl.ratio = (window.devicePixelRatio || 1) / backingStore;\n",
       "\n",
       "    var rubberband = $('<canvas/>');\n",
       "    rubberband.attr('style', \"position: absolute; left: 0; top: 0; z-index: 1;\")\n",
       "\n",
       "    var pass_mouse_events = true;\n",
       "\n",
       "    canvas_div.resizable({\n",
       "        start: function(event, ui) {\n",
       "            pass_mouse_events = false;\n",
       "        },\n",
       "        resize: function(event, ui) {\n",
       "            fig.request_resize(ui.size.width, ui.size.height);\n",
       "        },\n",
       "        stop: function(event, ui) {\n",
       "            pass_mouse_events = true;\n",
       "            fig.request_resize(ui.size.width, ui.size.height);\n",
       "        },\n",
       "    });\n",
       "\n",
       "    function mouse_event_fn(event) {\n",
       "        if (pass_mouse_events)\n",
       "            return fig.mouse_event(event, event['data']);\n",
       "    }\n",
       "\n",
       "    rubberband.mousedown('button_press', mouse_event_fn);\n",
       "    rubberband.mouseup('button_release', mouse_event_fn);\n",
       "    // Throttle sequential mouse events to 1 every 20ms.\n",
       "    rubberband.mousemove('motion_notify', mouse_event_fn);\n",
       "\n",
       "    rubberband.mouseenter('figure_enter', mouse_event_fn);\n",
       "    rubberband.mouseleave('figure_leave', mouse_event_fn);\n",
       "\n",
       "    canvas_div.on(\"wheel\", function (event) {\n",
       "        event = event.originalEvent;\n",
       "        event['data'] = 'scroll'\n",
       "        if (event.deltaY < 0) {\n",
       "            event.step = 1;\n",
       "        } else {\n",
       "            event.step = -1;\n",
       "        }\n",
       "        mouse_event_fn(event);\n",
       "    });\n",
       "\n",
       "    canvas_div.append(canvas);\n",
       "    canvas_div.append(rubberband);\n",
       "\n",
       "    this.rubberband = rubberband;\n",
       "    this.rubberband_canvas = rubberband[0];\n",
       "    this.rubberband_context = rubberband[0].getContext(\"2d\");\n",
       "    this.rubberband_context.strokeStyle = \"#000000\";\n",
       "\n",
       "    this._resize_canvas = function(width, height) {\n",
       "        // Keep the size of the canvas, canvas container, and rubber band\n",
       "        // canvas in synch.\n",
       "        canvas_div.css('width', width)\n",
       "        canvas_div.css('height', height)\n",
       "\n",
       "        canvas.attr('width', width * mpl.ratio);\n",
       "        canvas.attr('height', height * mpl.ratio);\n",
       "        canvas.attr('style', 'width: ' + width + 'px; height: ' + height + 'px;');\n",
       "\n",
       "        rubberband.attr('width', width);\n",
       "        rubberband.attr('height', height);\n",
       "    }\n",
       "\n",
       "    // Set the figure to an initial 600x600px, this will subsequently be updated\n",
       "    // upon first draw.\n",
       "    this._resize_canvas(600, 600);\n",
       "\n",
       "    // Disable right mouse context menu.\n",
       "    $(this.rubberband_canvas).bind(\"contextmenu\",function(e){\n",
       "        return false;\n",
       "    });\n",
       "\n",
       "    function set_focus () {\n",
       "        canvas.focus();\n",
       "        canvas_div.focus();\n",
       "    }\n",
       "\n",
       "    window.setTimeout(set_focus, 100);\n",
       "}\n",
       "\n",
       "mpl.figure.prototype._init_toolbar = function() {\n",
       "    var fig = this;\n",
       "\n",
       "    var nav_element = $('<div/>')\n",
       "    nav_element.attr('style', 'width: 100%');\n",
       "    this.root.append(nav_element);\n",
       "\n",
       "    // Define a callback function for later on.\n",
       "    function toolbar_event(event) {\n",
       "        return fig.toolbar_button_onclick(event['data']);\n",
       "    }\n",
       "    function toolbar_mouse_event(event) {\n",
       "        return fig.toolbar_button_onmouseover(event['data']);\n",
       "    }\n",
       "\n",
       "    for(var toolbar_ind in mpl.toolbar_items) {\n",
       "        var name = mpl.toolbar_items[toolbar_ind][0];\n",
       "        var tooltip = mpl.toolbar_items[toolbar_ind][1];\n",
       "        var image = mpl.toolbar_items[toolbar_ind][2];\n",
       "        var method_name = mpl.toolbar_items[toolbar_ind][3];\n",
       "\n",
       "        if (!name) {\n",
       "            // put a spacer in here.\n",
       "            continue;\n",
       "        }\n",
       "        var button = $('<button/>');\n",
       "        button.addClass('ui-button ui-widget ui-state-default ui-corner-all ' +\n",
       "                        'ui-button-icon-only');\n",
       "        button.attr('role', 'button');\n",
       "        button.attr('aria-disabled', 'false');\n",
       "        button.click(method_name, toolbar_event);\n",
       "        button.mouseover(tooltip, toolbar_mouse_event);\n",
       "\n",
       "        var icon_img = $('<span/>');\n",
       "        icon_img.addClass('ui-button-icon-primary ui-icon');\n",
       "        icon_img.addClass(image);\n",
       "        icon_img.addClass('ui-corner-all');\n",
       "\n",
       "        var tooltip_span = $('<span/>');\n",
       "        tooltip_span.addClass('ui-button-text');\n",
       "        tooltip_span.html(tooltip);\n",
       "\n",
       "        button.append(icon_img);\n",
       "        button.append(tooltip_span);\n",
       "\n",
       "        nav_element.append(button);\n",
       "    }\n",
       "\n",
       "    var fmt_picker_span = $('<span/>');\n",
       "\n",
       "    var fmt_picker = $('<select/>');\n",
       "    fmt_picker.addClass('mpl-toolbar-option ui-widget ui-widget-content');\n",
       "    fmt_picker_span.append(fmt_picker);\n",
       "    nav_element.append(fmt_picker_span);\n",
       "    this.format_dropdown = fmt_picker[0];\n",
       "\n",
       "    for (var ind in mpl.extensions) {\n",
       "        var fmt = mpl.extensions[ind];\n",
       "        var option = $(\n",
       "            '<option/>', {selected: fmt === mpl.default_extension}).html(fmt);\n",
       "        fmt_picker.append(option)\n",
       "    }\n",
       "\n",
       "    // Add hover states to the ui-buttons\n",
       "    $( \".ui-button\" ).hover(\n",
       "        function() { $(this).addClass(\"ui-state-hover\");},\n",
       "        function() { $(this).removeClass(\"ui-state-hover\");}\n",
       "    );\n",
       "\n",
       "    var status_bar = $('<span class=\"mpl-message\"/>');\n",
       "    nav_element.append(status_bar);\n",
       "    this.message = status_bar[0];\n",
       "}\n",
       "\n",
       "mpl.figure.prototype.request_resize = function(x_pixels, y_pixels) {\n",
       "    // Request matplotlib to resize the figure. Matplotlib will then trigger a resize in the client,\n",
       "    // which will in turn request a refresh of the image.\n",
       "    this.send_message('resize', {'width': x_pixels, 'height': y_pixels});\n",
       "}\n",
       "\n",
       "mpl.figure.prototype.send_message = function(type, properties) {\n",
       "    properties['type'] = type;\n",
       "    properties['figure_id'] = this.id;\n",
       "    this.ws.send(JSON.stringify(properties));\n",
       "}\n",
       "\n",
       "mpl.figure.prototype.send_draw_message = function() {\n",
       "    if (!this.waiting) {\n",
       "        this.waiting = true;\n",
       "        this.ws.send(JSON.stringify({type: \"draw\", figure_id: this.id}));\n",
       "    }\n",
       "}\n",
       "\n",
       "\n",
       "mpl.figure.prototype.handle_save = function(fig, msg) {\n",
       "    var format_dropdown = fig.format_dropdown;\n",
       "    var format = format_dropdown.options[format_dropdown.selectedIndex].value;\n",
       "    fig.ondownload(fig, format);\n",
       "}\n",
       "\n",
       "\n",
       "mpl.figure.prototype.handle_resize = function(fig, msg) {\n",
       "    var size = msg['size'];\n",
       "    if (size[0] != fig.canvas.width || size[1] != fig.canvas.height) {\n",
       "        fig._resize_canvas(size[0], size[1]);\n",
       "        fig.send_message(\"refresh\", {});\n",
       "    };\n",
       "}\n",
       "\n",
       "mpl.figure.prototype.handle_rubberband = function(fig, msg) {\n",
       "    var x0 = msg['x0'] / mpl.ratio;\n",
       "    var y0 = (fig.canvas.height - msg['y0']) / mpl.ratio;\n",
       "    var x1 = msg['x1'] / mpl.ratio;\n",
       "    var y1 = (fig.canvas.height - msg['y1']) / mpl.ratio;\n",
       "    x0 = Math.floor(x0) + 0.5;\n",
       "    y0 = Math.floor(y0) + 0.5;\n",
       "    x1 = Math.floor(x1) + 0.5;\n",
       "    y1 = Math.floor(y1) + 0.5;\n",
       "    var min_x = Math.min(x0, x1);\n",
       "    var min_y = Math.min(y0, y1);\n",
       "    var width = Math.abs(x1 - x0);\n",
       "    var height = Math.abs(y1 - y0);\n",
       "\n",
       "    fig.rubberband_context.clearRect(\n",
       "        0, 0, fig.canvas.width, fig.canvas.height);\n",
       "\n",
       "    fig.rubberband_context.strokeRect(min_x, min_y, width, height);\n",
       "}\n",
       "\n",
       "mpl.figure.prototype.handle_figure_label = function(fig, msg) {\n",
       "    // Updates the figure title.\n",
       "    fig.header.textContent = msg['label'];\n",
       "}\n",
       "\n",
       "mpl.figure.prototype.handle_cursor = function(fig, msg) {\n",
       "    var cursor = msg['cursor'];\n",
       "    switch(cursor)\n",
       "    {\n",
       "    case 0:\n",
       "        cursor = 'pointer';\n",
       "        break;\n",
       "    case 1:\n",
       "        cursor = 'default';\n",
       "        break;\n",
       "    case 2:\n",
       "        cursor = 'crosshair';\n",
       "        break;\n",
       "    case 3:\n",
       "        cursor = 'move';\n",
       "        break;\n",
       "    }\n",
       "    fig.rubberband_canvas.style.cursor = cursor;\n",
       "}\n",
       "\n",
       "mpl.figure.prototype.handle_message = function(fig, msg) {\n",
       "    fig.message.textContent = msg['message'];\n",
       "}\n",
       "\n",
       "mpl.figure.prototype.handle_draw = function(fig, msg) {\n",
       "    // Request the server to send over a new figure.\n",
       "    fig.send_draw_message();\n",
       "}\n",
       "\n",
       "mpl.figure.prototype.handle_image_mode = function(fig, msg) {\n",
       "    fig.image_mode = msg['mode'];\n",
       "}\n",
       "\n",
       "mpl.figure.prototype.updated_canvas_event = function() {\n",
       "    // Called whenever the canvas gets updated.\n",
       "    this.send_message(\"ack\", {});\n",
       "}\n",
       "\n",
       "// A function to construct a web socket function for onmessage handling.\n",
       "// Called in the figure constructor.\n",
       "mpl.figure.prototype._make_on_message_function = function(fig) {\n",
       "    return function socket_on_message(evt) {\n",
       "        if (evt.data instanceof Blob) {\n",
       "            /* FIXME: We get \"Resource interpreted as Image but\n",
       "             * transferred with MIME type text/plain:\" errors on\n",
       "             * Chrome.  But how to set the MIME type?  It doesn't seem\n",
       "             * to be part of the websocket stream */\n",
       "            evt.data.type = \"image/png\";\n",
       "\n",
       "            /* Free the memory for the previous frames */\n",
       "            if (fig.imageObj.src) {\n",
       "                (window.URL || window.webkitURL).revokeObjectURL(\n",
       "                    fig.imageObj.src);\n",
       "            }\n",
       "\n",
       "            fig.imageObj.src = (window.URL || window.webkitURL).createObjectURL(\n",
       "                evt.data);\n",
       "            fig.updated_canvas_event();\n",
       "            fig.waiting = false;\n",
       "            return;\n",
       "        }\n",
       "        else if (typeof evt.data === 'string' && evt.data.slice(0, 21) == \"data:image/png;base64\") {\n",
       "            fig.imageObj.src = evt.data;\n",
       "            fig.updated_canvas_event();\n",
       "            fig.waiting = false;\n",
       "            return;\n",
       "        }\n",
       "\n",
       "        var msg = JSON.parse(evt.data);\n",
       "        var msg_type = msg['type'];\n",
       "\n",
       "        // Call the  \"handle_{type}\" callback, which takes\n",
       "        // the figure and JSON message as its only arguments.\n",
       "        try {\n",
       "            var callback = fig[\"handle_\" + msg_type];\n",
       "        } catch (e) {\n",
       "            console.log(\"No handler for the '\" + msg_type + \"' message type: \", msg);\n",
       "            return;\n",
       "        }\n",
       "\n",
       "        if (callback) {\n",
       "            try {\n",
       "                // console.log(\"Handling '\" + msg_type + \"' message: \", msg);\n",
       "                callback(fig, msg);\n",
       "            } catch (e) {\n",
       "                console.log(\"Exception inside the 'handler_\" + msg_type + \"' callback:\", e, e.stack, msg);\n",
       "            }\n",
       "        }\n",
       "    };\n",
       "}\n",
       "\n",
       "// from http://stackoverflow.com/questions/1114465/getting-mouse-location-in-canvas\n",
       "mpl.findpos = function(e) {\n",
       "    //this section is from http://www.quirksmode.org/js/events_properties.html\n",
       "    var targ;\n",
       "    if (!e)\n",
       "        e = window.event;\n",
       "    if (e.target)\n",
       "        targ = e.target;\n",
       "    else if (e.srcElement)\n",
       "        targ = e.srcElement;\n",
       "    if (targ.nodeType == 3) // defeat Safari bug\n",
       "        targ = targ.parentNode;\n",
       "\n",
       "    // jQuery normalizes the pageX and pageY\n",
       "    // pageX,Y are the mouse positions relative to the document\n",
       "    // offset() returns the position of the element relative to the document\n",
       "    var x = e.pageX - $(targ).offset().left;\n",
       "    var y = e.pageY - $(targ).offset().top;\n",
       "\n",
       "    return {\"x\": x, \"y\": y};\n",
       "};\n",
       "\n",
       "/*\n",
       " * return a copy of an object with only non-object keys\n",
       " * we need this to avoid circular references\n",
       " * http://stackoverflow.com/a/24161582/3208463\n",
       " */\n",
       "function simpleKeys (original) {\n",
       "  return Object.keys(original).reduce(function (obj, key) {\n",
       "    if (typeof original[key] !== 'object')\n",
       "        obj[key] = original[key]\n",
       "    return obj;\n",
       "  }, {});\n",
       "}\n",
       "\n",
       "mpl.figure.prototype.mouse_event = function(event, name) {\n",
       "    var canvas_pos = mpl.findpos(event)\n",
       "\n",
       "    if (name === 'button_press')\n",
       "    {\n",
       "        this.canvas.focus();\n",
       "        this.canvas_div.focus();\n",
       "    }\n",
       "\n",
       "    var x = canvas_pos.x * mpl.ratio;\n",
       "    var y = canvas_pos.y * mpl.ratio;\n",
       "\n",
       "    this.send_message(name, {x: x, y: y, button: event.button,\n",
       "                             step: event.step,\n",
       "                             guiEvent: simpleKeys(event)});\n",
       "\n",
       "    /* This prevents the web browser from automatically changing to\n",
       "     * the text insertion cursor when the button is pressed.  We want\n",
       "     * to control all of the cursor setting manually through the\n",
       "     * 'cursor' event from matplotlib */\n",
       "    event.preventDefault();\n",
       "    return false;\n",
       "}\n",
       "\n",
       "mpl.figure.prototype._key_event_extra = function(event, name) {\n",
       "    // Handle any extra behaviour associated with a key event\n",
       "}\n",
       "\n",
       "mpl.figure.prototype.key_event = function(event, name) {\n",
       "\n",
       "    // Prevent repeat events\n",
       "    if (name == 'key_press')\n",
       "    {\n",
       "        if (event.which === this._key)\n",
       "            return;\n",
       "        else\n",
       "            this._key = event.which;\n",
       "    }\n",
       "    if (name == 'key_release')\n",
       "        this._key = null;\n",
       "\n",
       "    var value = '';\n",
       "    if (event.ctrlKey && event.which != 17)\n",
       "        value += \"ctrl+\";\n",
       "    if (event.altKey && event.which != 18)\n",
       "        value += \"alt+\";\n",
       "    if (event.shiftKey && event.which != 16)\n",
       "        value += \"shift+\";\n",
       "\n",
       "    value += 'k';\n",
       "    value += event.which.toString();\n",
       "\n",
       "    this._key_event_extra(event, name);\n",
       "\n",
       "    this.send_message(name, {key: value,\n",
       "                             guiEvent: simpleKeys(event)});\n",
       "    return false;\n",
       "}\n",
       "\n",
       "mpl.figure.prototype.toolbar_button_onclick = function(name) {\n",
       "    if (name == 'download') {\n",
       "        this.handle_save(this, null);\n",
       "    } else {\n",
       "        this.send_message(\"toolbar_button\", {name: name});\n",
       "    }\n",
       "};\n",
       "\n",
       "mpl.figure.prototype.toolbar_button_onmouseover = function(tooltip) {\n",
       "    this.message.textContent = tooltip;\n",
       "};\n",
       "mpl.toolbar_items = [[\"Home\", \"Reset original view\", \"fa fa-home icon-home\", \"home\"], [\"Back\", \"Back to previous view\", \"fa fa-arrow-left icon-arrow-left\", \"back\"], [\"Forward\", \"Forward to next view\", \"fa fa-arrow-right icon-arrow-right\", \"forward\"], [\"\", \"\", \"\", \"\"], [\"Pan\", \"Pan axes with left mouse, zoom with right\", \"fa fa-arrows icon-move\", \"pan\"], [\"Zoom\", \"Zoom to rectangle\", \"fa fa-square-o icon-check-empty\", \"zoom\"], [\"\", \"\", \"\", \"\"], [\"Download\", \"Download plot\", \"fa fa-floppy-o icon-save\", \"download\"]];\n",
       "\n",
       "mpl.extensions = [\"eps\", \"jpeg\", \"pdf\", \"png\", \"ps\", \"raw\", \"svg\", \"tif\"];\n",
       "\n",
       "mpl.default_extension = \"png\";var comm_websocket_adapter = function(comm) {\n",
       "    // Create a \"websocket\"-like object which calls the given IPython comm\n",
       "    // object with the appropriate methods. Currently this is a non binary\n",
       "    // socket, so there is still some room for performance tuning.\n",
       "    var ws = {};\n",
       "\n",
       "    ws.close = function() {\n",
       "        comm.close()\n",
       "    };\n",
       "    ws.send = function(m) {\n",
       "        //console.log('sending', m);\n",
       "        comm.send(m);\n",
       "    };\n",
       "    // Register the callback with on_msg.\n",
       "    comm.on_msg(function(msg) {\n",
       "        //console.log('receiving', msg['content']['data'], msg);\n",
       "        // Pass the mpl event to the overridden (by mpl) onmessage function.\n",
       "        ws.onmessage(msg['content']['data'])\n",
       "    });\n",
       "    return ws;\n",
       "}\n",
       "\n",
       "mpl.mpl_figure_comm = function(comm, msg) {\n",
       "    // This is the function which gets called when the mpl process\n",
       "    // starts-up an IPython Comm through the \"matplotlib\" channel.\n",
       "\n",
       "    var id = msg.content.data.id;\n",
       "    // Get hold of the div created by the display call when the Comm\n",
       "    // socket was opened in Python.\n",
       "    var element = $(\"#\" + id);\n",
       "    var ws_proxy = comm_websocket_adapter(comm)\n",
       "\n",
       "    function ondownload(figure, format) {\n",
       "        window.open(figure.imageObj.src);\n",
       "    }\n",
       "\n",
       "    var fig = new mpl.figure(id, ws_proxy,\n",
       "                           ondownload,\n",
       "                           element.get(0));\n",
       "\n",
       "    // Call onopen now - mpl needs it, as it is assuming we've passed it a real\n",
       "    // web socket which is closed, not our websocket->open comm proxy.\n",
       "    ws_proxy.onopen();\n",
       "\n",
       "    fig.parent_element = element.get(0);\n",
       "    fig.cell_info = mpl.find_output_cell(\"<div id='\" + id + \"'></div>\");\n",
       "    if (!fig.cell_info) {\n",
       "        console.error(\"Failed to find cell for figure\", id, fig);\n",
       "        return;\n",
       "    }\n",
       "\n",
       "    var output_index = fig.cell_info[2]\n",
       "    var cell = fig.cell_info[0];\n",
       "\n",
       "};\n",
       "\n",
       "mpl.figure.prototype.handle_close = function(fig, msg) {\n",
       "    var width = fig.canvas.width/mpl.ratio\n",
       "    fig.root.unbind('remove')\n",
       "\n",
       "    // Update the output cell to use the data from the current canvas.\n",
       "    fig.push_to_output();\n",
       "    var dataURL = fig.canvas.toDataURL();\n",
       "    // Re-enable the keyboard manager in IPython - without this line, in FF,\n",
       "    // the notebook keyboard shortcuts fail.\n",
       "    IPython.keyboard_manager.enable()\n",
       "    $(fig.parent_element).html('<img src=\"' + dataURL + '\" width=\"' + width + '\">');\n",
       "    fig.close_ws(fig, msg);\n",
       "}\n",
       "\n",
       "mpl.figure.prototype.close_ws = function(fig, msg){\n",
       "    fig.send_message('closing', msg);\n",
       "    // fig.ws.close()\n",
       "}\n",
       "\n",
       "mpl.figure.prototype.push_to_output = function(remove_interactive) {\n",
       "    // Turn the data on the canvas into data in the output cell.\n",
       "    var width = this.canvas.width/mpl.ratio\n",
       "    var dataURL = this.canvas.toDataURL();\n",
       "    this.cell_info[1]['text/html'] = '<img src=\"' + dataURL + '\" width=\"' + width + '\">';\n",
       "}\n",
       "\n",
       "mpl.figure.prototype.updated_canvas_event = function() {\n",
       "    // Tell IPython that the notebook contents must change.\n",
       "    IPython.notebook.set_dirty(true);\n",
       "    this.send_message(\"ack\", {});\n",
       "    var fig = this;\n",
       "    // Wait a second, then push the new image to the DOM so\n",
       "    // that it is saved nicely (might be nice to debounce this).\n",
       "    setTimeout(function () { fig.push_to_output() }, 1000);\n",
       "}\n",
       "\n",
       "mpl.figure.prototype._init_toolbar = function() {\n",
       "    var fig = this;\n",
       "\n",
       "    var nav_element = $('<div/>')\n",
       "    nav_element.attr('style', 'width: 100%');\n",
       "    this.root.append(nav_element);\n",
       "\n",
       "    // Define a callback function for later on.\n",
       "    function toolbar_event(event) {\n",
       "        return fig.toolbar_button_onclick(event['data']);\n",
       "    }\n",
       "    function toolbar_mouse_event(event) {\n",
       "        return fig.toolbar_button_onmouseover(event['data']);\n",
       "    }\n",
       "\n",
       "    for(var toolbar_ind in mpl.toolbar_items){\n",
       "        var name = mpl.toolbar_items[toolbar_ind][0];\n",
       "        var tooltip = mpl.toolbar_items[toolbar_ind][1];\n",
       "        var image = mpl.toolbar_items[toolbar_ind][2];\n",
       "        var method_name = mpl.toolbar_items[toolbar_ind][3];\n",
       "\n",
       "        if (!name) { continue; };\n",
       "\n",
       "        var button = $('<button class=\"btn btn-default\" href=\"#\" title=\"' + name + '\"><i class=\"fa ' + image + ' fa-lg\"></i></button>');\n",
       "        button.click(method_name, toolbar_event);\n",
       "        button.mouseover(tooltip, toolbar_mouse_event);\n",
       "        nav_element.append(button);\n",
       "    }\n",
       "\n",
       "    // Add the status bar.\n",
       "    var status_bar = $('<span class=\"mpl-message\" style=\"text-align:right; float: right;\"/>');\n",
       "    nav_element.append(status_bar);\n",
       "    this.message = status_bar[0];\n",
       "\n",
       "    // Add the close button to the window.\n",
       "    var buttongrp = $('<div class=\"btn-group inline pull-right\"></div>');\n",
       "    var button = $('<button class=\"btn btn-mini btn-primary\" href=\"#\" title=\"Stop Interaction\"><i class=\"fa fa-power-off icon-remove icon-large\"></i></button>');\n",
       "    button.click(function (evt) { fig.handle_close(fig, {}); } );\n",
       "    button.mouseover('Stop Interaction', toolbar_mouse_event);\n",
       "    buttongrp.append(button);\n",
       "    var titlebar = this.root.find($('.ui-dialog-titlebar'));\n",
       "    titlebar.prepend(buttongrp);\n",
       "}\n",
       "\n",
       "mpl.figure.prototype._root_extra_style = function(el){\n",
       "    var fig = this\n",
       "    el.on(\"remove\", function(){\n",
       "\tfig.close_ws(fig, {});\n",
       "    });\n",
       "}\n",
       "\n",
       "mpl.figure.prototype._canvas_extra_style = function(el){\n",
       "    // this is important to make the div 'focusable\n",
       "    el.attr('tabindex', 0)\n",
       "    // reach out to IPython and tell the keyboard manager to turn it's self\n",
       "    // off when our div gets focus\n",
       "\n",
       "    // location in version 3\n",
       "    if (IPython.notebook.keyboard_manager) {\n",
       "        IPython.notebook.keyboard_manager.register_events(el);\n",
       "    }\n",
       "    else {\n",
       "        // location in version 2\n",
       "        IPython.keyboard_manager.register_events(el);\n",
       "    }\n",
       "\n",
       "}\n",
       "\n",
       "mpl.figure.prototype._key_event_extra = function(event, name) {\n",
       "    var manager = IPython.notebook.keyboard_manager;\n",
       "    if (!manager)\n",
       "        manager = IPython.keyboard_manager;\n",
       "\n",
       "    // Check for shift+enter\n",
       "    if (event.shiftKey && event.which == 13) {\n",
       "        this.canvas_div.blur();\n",
       "        event.shiftKey = false;\n",
       "        // Send a \"J\" for go to next cell\n",
       "        event.which = 74;\n",
       "        event.keyCode = 74;\n",
       "        manager.command_mode();\n",
       "        manager.handle_keydown(event);\n",
       "    }\n",
       "}\n",
       "\n",
       "mpl.figure.prototype.handle_save = function(fig, msg) {\n",
       "    fig.ondownload(fig, null);\n",
       "}\n",
       "\n",
       "\n",
       "mpl.find_output_cell = function(html_output) {\n",
       "    // Return the cell and output element which can be found *uniquely* in the notebook.\n",
       "    // Note - this is a bit hacky, but it is done because the \"notebook_saving.Notebook\"\n",
       "    // IPython event is triggered only after the cells have been serialised, which for\n",
       "    // our purposes (turning an active figure into a static one), is too late.\n",
       "    var cells = IPython.notebook.get_cells();\n",
       "    var ncells = cells.length;\n",
       "    for (var i=0; i<ncells; i++) {\n",
       "        var cell = cells[i];\n",
       "        if (cell.cell_type === 'code'){\n",
       "            for (var j=0; j<cell.output_area.outputs.length; j++) {\n",
       "                var data = cell.output_area.outputs[j];\n",
       "                if (data.data) {\n",
       "                    // IPython >= 3 moved mimebundle to data attribute of output\n",
       "                    data = data.data;\n",
       "                }\n",
       "                if (data['text/html'] == html_output) {\n",
       "                    return [cell, data, j];\n",
       "                }\n",
       "            }\n",
       "        }\n",
       "    }\n",
       "}\n",
       "\n",
       "// Register the function which deals with the matplotlib target/channel.\n",
       "// The kernel may be null if the page has been refreshed.\n",
       "if (IPython.notebook.kernel != null) {\n",
       "    IPython.notebook.kernel.comm_manager.register_target('matplotlib', mpl.mpl_figure_comm);\n",
       "}\n"
      ],
      "text/plain": [
       "<IPython.core.display.Javascript object>"
      ]
     },
     "metadata": {},
     "output_type": "display_data"
    },
    {
     "data": {
      "text/html": [
       "<img src=\"data:image/png;base64,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\" width=\"863.63634491755\">"
      ],
      "text/plain": [
       "<IPython.core.display.HTML object>"
      ]
     },
     "metadata": {},
     "output_type": "display_data"
    }
   ],
   "source": [
    "%matplotlib notebook\n",
    "fig = plt.figure(figsize=(12,4))\n",
    "ax = fig.add_subplot(121,projection='3d')\n",
    "ax.scatter(xs=X_test['TV'],ys=X_test['Radio'],zs=y_test)\n",
    "ax.set_xlabel(\"TV\")\n",
    "ax.set_ylabel(\"Radio\")\n",
    "ax.set_zlabel(\"Sales\")\n",
    "ax.set_title(\"Actual Data\")\n",
    "ax1 = fig.add_subplot(122,projection='3d')\n",
    "ax1.scatter(xs=X_test['TV'],ys=X_test['Radio'],zs=y_pred)\n",
    "ax1.set_xlabel(\"TV\")\n",
    "ax1.set_ylabel(\"Radio\")\n",
    "ax1.set_zlabel(\"Sales\")\n",
    "ax1.set_title(\"Predictied Data\")\n",
    "plt.show()"
   ]
  },
  {
   "cell_type": "markdown",
   "metadata": {},
   "source": [
    "## Polynomail Regession "
   ]
  },
  {
   "cell_type": "code",
   "execution_count": 2,
   "metadata": {},
   "outputs": [],
   "source": [
    "import numpy as np \n",
    "import pandas as pd\n",
    "import seaborn as sns\n",
    "import matplotlib.pyplot as plt\n",
    "%matplotlib inline \n",
    "plt.style.use('seaborn-whitegrid')\n",
    "plt.rcParams['figure.figsize'] = (10,4)"
   ]
  },
  {
   "cell_type": "code",
   "execution_count": 21,
   "metadata": {},
   "outputs": [],
   "source": [
    "##let's take height in cms\n",
    "height = np.random.normal(130.0,20,100)"
   ]
  },
  {
   "cell_type": "code",
   "execution_count": 22,
   "metadata": {},
   "outputs": [
    {
     "data": {
      "text/plain": [
       "array([120.42553599, 135.34169866, 131.83227188, 117.78891867,\n",
       "       145.93863532])"
      ]
     },
     "execution_count": 22,
     "metadata": {},
     "output_type": "execute_result"
    }
   ],
   "source": [
    "height[:5]"
   ]
  },
  {
   "cell_type": "markdown",
   "metadata": {},
   "source": [
    "$$ y = ax^3 + bx^2 + cx + c $$ "
   ]
  },
  {
   "cell_type": "code",
   "execution_count": 23,
   "metadata": {},
   "outputs": [
    {
     "data": {
      "text/plain": [
       "100"
      ]
     },
     "execution_count": 23,
     "metadata": {},
     "output_type": "execute_result"
    }
   ],
   "source": [
    "height.size"
   ]
  },
  {
   "cell_type": "code",
   "execution_count": 24,
   "metadata": {},
   "outputs": [],
   "source": [
    "weight = height ** 3 + np.random.randn(100)*100 + (np.random.randn(100)+5)"
   ]
  },
  {
   "cell_type": "code",
   "execution_count": 25,
   "metadata": {},
   "outputs": [
    {
     "data": {
      "image/png": "[encoded data removed]",
      "text/plain": [
       "<Figure size 432x288 with 1 Axes>"
      ]
     },
     "metadata": {
      "needs_background": "light"
     },
     "output_type": "display_data"
    }
   ],
   "source": [
    "%matplotlib inline \n",
    "plt.hist(weight,bins=30,edgecolor='k')\n",
    "plt.show()"
   ]
  },
  {
   "cell_type": "code",
   "execution_count": 26,
   "metadata": {},
   "outputs": [
    {
     "data": {
      "image/png": "[encoded data removed]",
      "text/plain": [
       "<Figure size 432x288 with 1 Axes>"
      ]
     },
     "metadata": {
      "needs_background": "light"
     },
     "output_type": "display_data"
    }
   ],
   "source": [
    "plt.scatter(height,weight)\n",
    "plt.show()"
   ]
  },
  {
   "cell_type": "code",
   "execution_count": 27,
   "metadata": {},
   "outputs": [],
   "source": [
    "from sklearn.linear_model import LinearRegression"
   ]
  },
  {
   "cell_type": "code",
   "execution_count": 29,
   "metadata": {},
   "outputs": [],
   "source": [
    "model = LinearRegression()"
   ]
  },
  {
   "cell_type": "code",
   "execution_count": 30,
   "metadata": {},
   "outputs": [
    {
     "data": {
      "text/plain": [
       "LinearRegression(copy_X=True, fit_intercept=True, n_jobs=None,\n",
       "         normalize=False)"
      ]
     },
     "execution_count": 30,
     "metadata": {},
     "output_type": "execute_result"
    }
   ],
   "source": [
    "model.fit(height.reshape(-1,1),weight)"
   ]
  },
  {
   "cell_type": "code",
   "execution_count": 31,
   "metadata": {},
   "outputs": [
    {
     "data": {
      "text/plain": [
       "array([51751.95062831])"
      ]
     },
     "execution_count": 31,
     "metadata": {},
     "output_type": "execute_result"
    }
   ],
   "source": [
    "model.coef_"
   ]
  },
  {
   "cell_type": "code",
   "execution_count": 32,
   "metadata": {},
   "outputs": [
    {
     "data": {
      "text/plain": [
       "-4426972.367931658"
      ]
     },
     "execution_count": 32,
     "metadata": {},
     "output_type": "execute_result"
    }
   ],
   "source": [
    "model.intercept_"
   ]
  },
  {
   "cell_type": "code",
   "execution_count": 33,
   "metadata": {},
   "outputs": [
    {
     "data": {
      "text/plain": [
       "(100,)"
      ]
     },
     "execution_count": 33,
     "metadata": {},
     "output_type": "execute_result"
    }
   ],
   "source": [
    "y_pred = model.predict(height.reshape(-1,1))\n",
    "y_pred.shape"
   ]
  },
  {
   "cell_type": "code",
   "execution_count": 36,
   "metadata": {},
   "outputs": [
    {
     "data": {
      "text/plain": [
       "100"
      ]
     },
     "execution_count": 36,
     "metadata": {},
     "output_type": "execute_result"
    }
   ],
   "source": [
    "y_pred.ravel().size"
   ]
  },
  {
   "cell_type": "code",
   "execution_count": 41,
   "metadata": {},
   "outputs": [
    {
     "data": {
      "text/plain": [
       "19554895536.002228"
      ]
     },
     "execution_count": 41,
     "metadata": {},
     "output_type": "execute_result"
    }
   ],
   "source": [
    "from sklearn.metrics import mean_squared_error,r2_score\n",
    "\n",
    "mean_squared_error(weight,y_pred.ravel())"
   ]
  },
  {
   "cell_type": "code",
   "execution_count": 43,
   "metadata": {},
   "outputs": [
    {
     "data": {
      "text/plain": [
       "0.9733143773581169"
      ]
     },
     "execution_count": 43,
     "metadata": {},
     "output_type": "execute_result"
    }
   ],
   "source": [
    "r2_score(weight,y_pred.ravel())"
   ]
  },
  {
   "cell_type": "code",
   "execution_count": 39,
   "metadata": {},
   "outputs": [
    {
     "data": {
      "image/png": "[encoded data removed]",
      "text/plain": [
       "<Figure size 432x288 with 1 Axes>"
      ]
     },
     "metadata": {
      "needs_background": "light"
     },
     "output_type": "display_data"
    }
   ],
   "source": [
    "plt.scatter(height,weight,label=\"Original\",c='b')\n",
    "plt.plot(height,y_pred.ravel(),label=\"Prideicted\",c=\"r\")\n",
    "plt.show()"
   ]
  },
  {
   "cell_type": "code",
   "execution_count": 40,
   "metadata": {},
   "outputs": [],
   "source": [
    "from sklearn.preprocessing import PolynomialFeatures"
   ]
  },
  {
   "cell_type": "code",
   "execution_count": null,
   "metadata": {},
   "outputs": [],
   "source": [
    "height = height.reshape(-1,1)"
   ]
  },
  {
   "cell_type": "code",
   "execution_count": 74,
   "metadata": {},
   "outputs": [],
   "source": [
    "poly = PolynomialFeatures(degree=2)"
   ]
  },
  {
   "cell_type": "code",
   "execution_count": 75,
   "metadata": {},
   "outputs": [],
   "source": [
    "poly_x = poly.fit_transform(height)"
   ]
  },
  {
   "cell_type": "code",
   "execution_count": 76,
   "metadata": {},
   "outputs": [
    {
     "data": {
      "text/plain": [
       "array([[120.42553599],\n",
       "       [135.34169866],\n",
       "       [131.83227188],\n",
       "       [117.78891867],\n",
       "       [145.93863532]])"
      ]
     },
     "execution_count": 76,
     "metadata": {},
     "output_type": "execute_result"
    }
   ],
   "source": [
    "height[:5]"
   ]
  },
  {
   "cell_type": "code",
   "execution_count": 77,
   "metadata": {},
   "outputs": [
    {
     "data": {
      "text/plain": [
       "array([[1.00000000e+00, 1.20425536e+02, 1.45023097e+04],\n",
       "       [1.00000000e+00, 1.35341699e+02, 1.83173754e+04],\n",
       "       [1.00000000e+00, 1.31832272e+02, 1.73797479e+04],\n",
       "       [1.00000000e+00, 1.17788919e+02, 1.38742294e+04],\n",
       "       [1.00000000e+00, 1.45938635e+02, 2.12980853e+04]])"
      ]
     },
     "execution_count": 77,
     "metadata": {},
     "output_type": "execute_result"
    }
   ],
   "source": [
    "poly_x[:5]\n",
    "# y  = ax**2 + bx + c "
   ]
  },
  {
   "cell_type": "code",
   "execution_count": 78,
   "metadata": {},
   "outputs": [],
   "source": [
    "model = LinearRegression()"
   ]
  },
  {
   "cell_type": "code",
   "execution_count": 79,
   "metadata": {},
   "outputs": [
    {
     "data": {
      "text/plain": [
       "LinearRegression(copy_X=True, fit_intercept=True, n_jobs=None,\n",
       "         normalize=False)"
      ]
     },
     "execution_count": 79,
     "metadata": {},
     "output_type": "execute_result"
    }
   ],
   "source": [
    "model.fit(poly_x,weight)"
   ]
  },
  {
   "cell_type": "code",
   "execution_count": 80,
   "metadata": {},
   "outputs": [],
   "source": [
    "y_pred = model.predict(poly_x)"
   ]
  },
  {
   "cell_type": "code",
   "execution_count": 81,
   "metadata": {},
   "outputs": [
    {
     "data": {
      "image/png": "[encoded data removed]",
      "text/plain": [
       "<Figure size 432x288 with 1 Axes>"
      ]
     },
     "metadata": {
      "needs_background": "light"
     },
     "output_type": "display_data"
    }
   ],
   "source": [
    "plt.scatter(height,weight,label=\"Original\",c='b',s=110)\n",
    "plt.scatter(height,y_pred,label=\"Prideicted\",c=\"r\",s=30)\n",
    "plt.show()"
   ]
  },
  {
   "cell_type": "code",
   "execution_count": 82,
   "metadata": {},
   "outputs": [
    {
     "data": {
      "text/plain": [
       "50752592.40591492"
      ]
     },
     "execution_count": 82,
     "metadata": {},
     "output_type": "execute_result"
    }
   ],
   "source": [
    "mean_squared_error(weight,y_pred)"
   ]
  },
  {
   "cell_type": "code",
   "execution_count": 73,
   "metadata": {},
   "outputs": [
    {
     "data": {
      "text/plain": [
       "0.9999999880747185"
      ]
     },
     "execution_count": 73,
     "metadata": {},
     "output_type": "execute_result"
    }
   ],
   "source": [
    "r2_score(weight,y_pred)"
   ]
  },
  {
   "cell_type": "markdown",
   "metadata": {},
   "source": []
  },
  {
   "cell_type": "code",
   "execution_count": null,
   "metadata": {},
   "outputs": [],
   "source": []
  }
 ],
 "metadata": {
  "kernelspec": {
   "display_name": "Python 3",
   "language": "python",
   "name": "python3"
  },
  "language_info": {
   "codemirror_mode": {
    "name": "ipython",
    "version": 3
   },
   "file_extension": ".py",
   "mimetype": "text/x-python",
   "name": "python",
   "nbconvert_exporter": "python",
   "pygments_lexer": "ipython3",
   "version": "3.7.3"
  }
 },
 "nbformat": 4,
 "nbformat_minor": 2
}
